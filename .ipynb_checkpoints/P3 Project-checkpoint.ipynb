{
 "cells": [
  {
   "cell_type": "markdown",
   "id": "3d65cb99-6a4d-4f6a-b09c-a3b6f55a2198",
   "metadata": {},
   "source": [
    "# GLOBAL MODERN SLAVERY"
   ]
  },
  {
   "cell_type": "markdown",
   "id": "a8ac7bac-e2d4-4c3c-a36d-8c82801e555a",
   "metadata": {},
   "source": [
    "## Business Objective"
   ]
  },
  {
   "cell_type": "markdown",
   "id": "5a42b995-115a-4878-a567-8918fcb6bccd",
   "metadata": {},
   "source": [
    "The primary objective of analyzing the Global Slavery Index (GSI) dataset is to develop a classification model that accurately categorizes countries based on their vulnerability to different types of modern slavery, specifically forced labor, human trafficking, and child exploitation. This classification will enable stakeholders to identify and prioritize regions where specific interventions are most needed, thereby contributing to more effective and targeted efforts in combating modern slavery globally."
   ]
  },
  {
   "cell_type": "markdown",
   "id": "02764899-8c1b-459f-8cdf-f25805e60e15",
   "metadata": {},
   "source": [
    "Stakeholders:\n",
    "\n",
    "1. Non-Governmental Organizations (NGOs):  NGOs that are focused on human rights and anti-slavery initiatives will benefit from the classification model by gaining insights into where their efforts can have the most impact, allowing them to tailor interventions to the specific types of slavery prevalent in different regions.\n",
    "2. Governments and Policy Makers:  Governments can use the classification results to enhance their policy frameworks, strengthen law enforcement, and allocate resources more efficiently\n",
    "3. International Bodies (e.g., United Nations, International Labour Organization):  These organizations can use the model's outputs to monitor global trends, coordinate international responses, and support countries in addressing their specific modern slavery challenges.\n",
    "4. Academics and Researchers:  Scholars studying modern slavery can use the classification as a foundation for further research into the causes and solutions for different types of modern slavery.\n",
    "\n"
   ]
  },
  {
   "cell_type": "markdown",
   "id": "5fc6c84b-8023-46d8-b5e6-53a607ae6210",
   "metadata": {},
   "source": [
    "## Data Understanding"
   ]
  },
  {
   "cell_type": "markdown",
   "id": "d5ee5e8a-7d1b-4580-9bda-a2e3cbbf545f",
   "metadata": {},
   "source": [
    "The Global Slavery Index (GSI) dataset provides detailed data on modern slavery, including socio-economic, political, and demographic indicators across various countries. The dataset aims to measure the prevalence of modern slavery, encompassing different forms such as forced labor, human trafficking, and child exploitation. Additionally, it includes data on government responses, vulnerability factors, and regional differences, providing a comprehensive view of the global state of modern slavery."
   ]
  },
  {
   "cell_type": "markdown",
   "id": "27003b4a-aeac-4f08-addb-0ab0f23bb3b2",
   "metadata": {},
   "source": [
    "#### Source of the data"
   ]
  },
  {
   "cell_type": "markdown",
   "id": "ee844b04-727a-4383-a9c0-ef22c9f359e1",
   "metadata": {},
   "source": [
    "The data for the Global Slavery Index is sourced from multiple authoritative bodies and research organizations, including but not limited to:\n",
    "1. Walk Free Foundation: The primary organization behind the Global Slavery Index, which conducts extensive research and data collection on modern slavery.\n",
    "2. International Labour Organization (ILO): Provides estimates and data on forced labor and other forms of modern slavery.\n",
    "3. United Nations (UN): Offers data on human trafficking and child exploitation through various UN agencies.\n",
    "4. World Bank: Supplies demographic and socio-economic indicators such as population, inequality, and governance.\n",
    "5. National Surveys: Data collected from national-level surveys conducted in various countries to assess vulnerability to modern slavery.\n",
    "\n",
    "These sources are integrated into the GSI dataset, ensuring that the data reflects a wide range of reliable inputs, though it's important to note that data collection methods may vary across countries."
   ]
  },
  {
   "cell_type": "markdown",
   "id": "ed6744f1-4107-4ff6-ba9c-239023a650ad",
   "metadata": {},
   "source": [
    "#### Data Types"
   ]
  },
  {
   "cell_type": "markdown",
   "id": "4c8bdae9-96c8-4747-a39e-61223079534b",
   "metadata": {},
   "source": [
    "1. Numerical Data: Includes most features such as 'population', 'prevalence rate',' Estimated number of people in modern slavery' and 'various score' (e.g., governance issues, vulnerability scores).\n",
    "2. Categorical Data: Includes 'Country' names and Regions, which may require encoding into numerical values for machine learning model training."
   ]
  },
  {
   "cell_type": "markdown",
   "id": "26c41084-188c-4742-b538-2215d09e049a",
   "metadata": {},
   "source": [
    "### IMPORTS AND DATA"
   ]
  },
  {
   "cell_type": "code",
   "execution_count": 221,
   "id": "064d9945-bf74-42ca-98d9-3ab39c9e8395",
   "metadata": {},
   "outputs": [],
   "source": [
    "# Basic Data Manipulation\n",
    "import pandas as pd\n",
    "import numpy as np\n",
    "\n",
    "# Data Preprocessing\n",
    "from sklearn.model_selection import train_test_split\n",
    "from sklearn.preprocessing import StandardScaler, OneHotEncoder\n",
    "\n",
    "# Logistic Regression Model\n",
    "from sklearn.linear_model import LogisticRegression\n",
    "\n",
    "# Decision Tree Model\n",
    "from sklearn.tree import DecisionTreeClassifier, plot_tree\n",
    "\n",
    "# Model Evaluation\n",
    "from sklearn.metrics import accuracy_score, confusion_matrix, classification_report\n",
    "\n",
    "# Cross-Validation and Hyperparameter Tuning\n",
    "from sklearn.model_selection import cross_val_score, GridSearchCV\n",
    "\n",
    "#Feature Selection\n",
    "from sklearn.feature_selection import RFE"
   ]
  },
  {
   "cell_type": "markdown",
   "id": "2f5907e0-63d9-45ca-bcbd-77b0599663cf",
   "metadata": {},
   "source": [
    "#### Loading the dataset"
   ]
  },
  {
   "cell_type": "code",
   "execution_count": 223,
   "id": "32e7df69-1286-45eb-aeba-df8993203896",
   "metadata": {},
   "outputs": [
    {
     "data": {
      "text/html": [
       "<div>\n",
       "<style scoped>\n",
       "    .dataframe tbody tr th:only-of-type {\n",
       "        vertical-align: middle;\n",
       "    }\n",
       "\n",
       "    .dataframe tbody tr th {\n",
       "        vertical-align: top;\n",
       "    }\n",
       "\n",
       "    .dataframe thead th {\n",
       "        text-align: right;\n",
       "    }\n",
       "</style>\n",
       "<table border=\"1\" class=\"dataframe\">\n",
       "  <thead>\n",
       "    <tr style=\"text-align: right;\">\n",
       "      <th></th>\n",
       "      <th>Country</th>\n",
       "      <th>Population</th>\n",
       "      <th>Region</th>\n",
       "      <th>Estimated prevalence of modern slavery per 1,000 population</th>\n",
       "      <th>Estimated number of people in modern slavery</th>\n",
       "      <th>Governance issues</th>\n",
       "      <th>Lack of basic needs</th>\n",
       "      <th>Inequality</th>\n",
       "      <th>Disenfranchised groups</th>\n",
       "      <th>Effects of conflict</th>\n",
       "      <th>Total Vulnerability score (%)</th>\n",
       "      <th>Survivors of slavery are identified and supported to exit and remain out of modern slavery (%)</th>\n",
       "      <th>Criminal justice mechanisms function effectively to prevent modern slavery (%)</th>\n",
       "      <th>Coordination occurs at the national and regional level and across borders, and governments are held to account for their response (%)</th>\n",
       "      <th>Risk factors, such as attitudes, social systems, and institutions that enable modern slavery are addressed (%)</th>\n",
       "      <th>Government and business stop sourcing goods and services produced by forced labour (%)</th>\n",
       "      <th>Government response total (%)</th>\n",
       "    </tr>\n",
       "  </thead>\n",
       "  <tbody>\n",
       "    <tr>\n",
       "      <th>0</th>\n",
       "      <td>Afghanistan</td>\n",
       "      <td>38928000</td>\n",
       "      <td>Asia and the Pacific</td>\n",
       "      <td>12.959972</td>\n",
       "      <td>505000.0</td>\n",
       "      <td>74.809036</td>\n",
       "      <td>49.411156</td>\n",
       "      <td>71.195145</td>\n",
       "      <td>73.209302</td>\n",
       "      <td>98.446933</td>\n",
       "      <td>86.166232</td>\n",
       "      <td>NaN</td>\n",
       "      <td>NaN</td>\n",
       "      <td>NaN</td>\n",
       "      <td>NaN</td>\n",
       "      <td>NaN</td>\n",
       "      <td>NaN</td>\n",
       "    </tr>\n",
       "    <tr>\n",
       "      <th>1</th>\n",
       "      <td>Albania</td>\n",
       "      <td>2878000</td>\n",
       "      <td>Europe and Central Asia</td>\n",
       "      <td>11.813945</td>\n",
       "      <td>34000.0</td>\n",
       "      <td>38.909387</td>\n",
       "      <td>30.682720</td>\n",
       "      <td>43.824288</td>\n",
       "      <td>68.409078</td>\n",
       "      <td>21.603999</td>\n",
       "      <td>39.505598</td>\n",
       "      <td>54.545456</td>\n",
       "      <td>69.230766</td>\n",
       "      <td>75.0</td>\n",
       "      <td>78.571426</td>\n",
       "      <td>12.5</td>\n",
       "      <td>61.538460</td>\n",
       "    </tr>\n",
       "    <tr>\n",
       "      <th>2</th>\n",
       "      <td>Algeria</td>\n",
       "      <td>43851000</td>\n",
       "      <td>Africa</td>\n",
       "      <td>1.922731</td>\n",
       "      <td>84000.0</td>\n",
       "      <td>53.957802</td>\n",
       "      <td>27.432023</td>\n",
       "      <td>30.482865</td>\n",
       "      <td>57.740208</td>\n",
       "      <td>33.520191</td>\n",
       "      <td>43.059746</td>\n",
       "      <td>22.727272</td>\n",
       "      <td>53.846153</td>\n",
       "      <td>37.5</td>\n",
       "      <td>42.857143</td>\n",
       "      <td>0.0</td>\n",
       "      <td>35.897434</td>\n",
       "    </tr>\n",
       "    <tr>\n",
       "      <th>3</th>\n",
       "      <td>Angola</td>\n",
       "      <td>32866000</td>\n",
       "      <td>Africa</td>\n",
       "      <td>4.136549</td>\n",
       "      <td>136000.0</td>\n",
       "      <td>51.223303</td>\n",
       "      <td>62.837397</td>\n",
       "      <td>54.912565</td>\n",
       "      <td>70.620563</td>\n",
       "      <td>29.198937</td>\n",
       "      <td>61.072812</td>\n",
       "      <td>59.090908</td>\n",
       "      <td>46.153847</td>\n",
       "      <td>62.5</td>\n",
       "      <td>28.571428</td>\n",
       "      <td>0.0</td>\n",
       "      <td>43.589745</td>\n",
       "    </tr>\n",
       "    <tr>\n",
       "      <th>4</th>\n",
       "      <td>Antigua and Barbuda</td>\n",
       "      <td>98000</td>\n",
       "      <td>Americas</td>\n",
       "      <td>NaN</td>\n",
       "      <td>NaN</td>\n",
       "      <td>NaN</td>\n",
       "      <td>NaN</td>\n",
       "      <td>NaN</td>\n",
       "      <td>NaN</td>\n",
       "      <td>NaN</td>\n",
       "      <td>NaN</td>\n",
       "      <td>36.363636</td>\n",
       "      <td>53.846153</td>\n",
       "      <td>62.5</td>\n",
       "      <td>50.000000</td>\n",
       "      <td>0.0</td>\n",
       "      <td>43.589745</td>\n",
       "    </tr>\n",
       "  </tbody>\n",
       "</table>\n",
       "</div>"
      ],
      "text/plain": [
       "               Country  Population                   Region  \\\n",
       "0          Afghanistan    38928000     Asia and the Pacific   \n",
       "1              Albania     2878000  Europe and Central Asia   \n",
       "2              Algeria    43851000                   Africa   \n",
       "3               Angola    32866000                   Africa   \n",
       "4  Antigua and Barbuda       98000                 Americas   \n",
       "\n",
       "   Estimated prevalence of modern slavery per 1,000 population  \\\n",
       "0                                          12.959972             \n",
       "1                                          11.813945             \n",
       "2                                           1.922731             \n",
       "3                                           4.136549             \n",
       "4                                                NaN             \n",
       "\n",
       "   Estimated number of people in modern slavery  Governance issues  \\\n",
       "0                                      505000.0          74.809036   \n",
       "1                                       34000.0          38.909387   \n",
       "2                                       84000.0          53.957802   \n",
       "3                                      136000.0          51.223303   \n",
       "4                                           NaN                NaN   \n",
       "\n",
       "   Lack of basic needs  Inequality  Disenfranchised groups  \\\n",
       "0            49.411156   71.195145               73.209302   \n",
       "1            30.682720   43.824288               68.409078   \n",
       "2            27.432023   30.482865               57.740208   \n",
       "3            62.837397   54.912565               70.620563   \n",
       "4                  NaN         NaN                     NaN   \n",
       "\n",
       "   Effects of conflict  Total Vulnerability score (%)  \\\n",
       "0            98.446933                      86.166232   \n",
       "1            21.603999                      39.505598   \n",
       "2            33.520191                      43.059746   \n",
       "3            29.198937                      61.072812   \n",
       "4                  NaN                            NaN   \n",
       "\n",
       "   Survivors of slavery are identified and supported to exit and remain out of modern slavery (%)  \\\n",
       "0                                                NaN                                                \n",
       "1                                          54.545456                                                \n",
       "2                                          22.727272                                                \n",
       "3                                          59.090908                                                \n",
       "4                                          36.363636                                                \n",
       "\n",
       "   Criminal justice mechanisms function effectively to prevent modern slavery (%)  \\\n",
       "0                                                NaN                                \n",
       "1                                          69.230766                                \n",
       "2                                          53.846153                                \n",
       "3                                          46.153847                                \n",
       "4                                          53.846153                                \n",
       "\n",
       "   Coordination occurs at the national and regional level and across borders, and governments are held to account for their response (%)  \\\n",
       "0                                                NaN                                                                                       \n",
       "1                                               75.0                                                                                       \n",
       "2                                               37.5                                                                                       \n",
       "3                                               62.5                                                                                       \n",
       "4                                               62.5                                                                                       \n",
       "\n",
       "   Risk factors, such as attitudes, social systems, and institutions that enable modern slavery are addressed (%)  \\\n",
       "0                                                NaN                                                                \n",
       "1                                          78.571426                                                                \n",
       "2                                          42.857143                                                                \n",
       "3                                          28.571428                                                                \n",
       "4                                          50.000000                                                                \n",
       "\n",
       "   Government and business stop sourcing goods and services produced by forced labour (%)  \\\n",
       "0                                                NaN                                        \n",
       "1                                               12.5                                        \n",
       "2                                                0.0                                        \n",
       "3                                                0.0                                        \n",
       "4                                                0.0                                        \n",
       "\n",
       "   Government response total (%)  \n",
       "0                            NaN  \n",
       "1                      61.538460  \n",
       "2                      35.897434  \n",
       "3                      43.589745  \n",
       "4                      43.589745  "
      ]
     },
     "execution_count": 223,
     "metadata": {},
     "output_type": "execute_result"
    }
   ],
   "source": [
    "# Load the dataset\n",
    "file_path = '2023-Global-Slavery-Index-Data.xlsx'  # Replace with the actual file path\n",
    "gsi_data = pd.read_excel(file_path, skiprows=2, sheet_name ='GSI 2023 summary data')\n",
    "\n",
    "\n",
    "# Display the first few rows of the dataset to confirm it loaded correctly\n",
    "gsi_data.head(5)"
   ]
  },
  {
   "cell_type": "code",
   "execution_count": 224,
   "id": "7d9d14a7-3c23-4e82-bf10-928c77b93654",
   "metadata": {},
   "outputs": [
    {
     "name": "stdout",
     "output_type": "stream",
     "text": [
      "<class 'pandas.core.frame.DataFrame'>\n",
      "RangeIndex: 180 entries, 0 to 179\n",
      "Data columns (total 17 columns):\n",
      " #   Column                                                                                                                                 Non-Null Count  Dtype  \n",
      "---  ------                                                                                                                                 --------------  -----  \n",
      " 0   Country                                                                                                                                180 non-null    object \n",
      " 1   Population                                                                                                                             180 non-null    int64  \n",
      " 2   Region                                                                                                                                 180 non-null    object \n",
      " 3   Estimated prevalence of modern slavery per 1,000 population                                                                            160 non-null    float64\n",
      " 4   Estimated number of people in modern slavery                                                                                           160 non-null    float64\n",
      " 5   Governance issues                                                                                                                      160 non-null    float64\n",
      " 6   Lack of basic needs                                                                                                                    160 non-null    float64\n",
      " 7   Inequality                                                                                                                             160 non-null    float64\n",
      " 8   Disenfranchised groups                                                                                                                 160 non-null    float64\n",
      " 9   Effects of conflict                                                                                                                    160 non-null    float64\n",
      " 10  Total Vulnerability score (%)                                                                                                          160 non-null    float64\n",
      " 11  Survivors of slavery are identified and supported to exit and remain out of modern slavery (%)                                         176 non-null    float64\n",
      " 12  Criminal justice mechanisms function effectively to prevent modern slavery (%)                                                         176 non-null    float64\n",
      " 13  Coordination occurs at the national and regional level and across borders, and governments are held to account for their response (%)  176 non-null    float64\n",
      " 14  Risk factors, such as attitudes, social systems, and institutions that enable modern slavery are addressed (%)                         176 non-null    float64\n",
      " 15  Government and business stop sourcing goods and services produced by forced labour (%)                                                 176 non-null    float64\n",
      " 16  Government response total (%)                                                                                                          176 non-null    float64\n",
      "dtypes: float64(14), int64(1), object(2)\n",
      "memory usage: 24.0+ KB\n"
     ]
    }
   ],
   "source": [
    "gsi_data.info()"
   ]
  },
  {
   "cell_type": "code",
   "execution_count": 225,
   "id": "0d8fb378-6a6e-43e3-accf-4aaec728aaad",
   "metadata": {},
   "outputs": [
    {
     "data": {
      "text/plain": [
       "(180, 17)"
      ]
     },
     "execution_count": 225,
     "metadata": {},
     "output_type": "execute_result"
    }
   ],
   "source": [
    "# Checking the number of rows and columns in the dataset\n",
    "gsi_data.shape"
   ]
  },
  {
   "cell_type": "markdown",
   "id": "806774ca-03fc-43f3-b2e3-1082207e0d12",
   "metadata": {},
   "source": [
    "### Data Preparation/Cleaning"
   ]
  },
  {
   "cell_type": "markdown",
   "id": "99a84639-6759-49f7-9b4f-ecbd9f21a10d",
   "metadata": {},
   "source": [
    "##### Checking for missing Values"
   ]
  },
  {
   "cell_type": "code",
   "execution_count": 228,
   "id": "7d33d209-c87e-44af-8941-c441262e6faf",
   "metadata": {},
   "outputs": [
    {
     "name": "stdout",
     "output_type": "stream",
     "text": [
      "Estimated prevalence of modern slavery per 1,000 population                                                                              20\n",
      "Estimated number of people in modern slavery                                                                                             20\n",
      "Governance issues                                                                                                                        20\n",
      "Lack of basic needs                                                                                                                      20\n",
      "Inequality                                                                                                                               20\n",
      "Disenfranchised groups                                                                                                                   20\n",
      "Effects of conflict                                                                                                                      20\n",
      "Total Vulnerability score (%)                                                                                                            20\n",
      "Survivors of slavery are identified and supported to exit and remain out of modern slavery (%)                                            4\n",
      "Criminal justice mechanisms function effectively to prevent modern slavery (%)                                                            4\n",
      "Coordination occurs at the national and regional level and across borders, and governments are held to account for their response (%)     4\n",
      "Risk factors, such as attitudes, social systems, and institutions that enable modern slavery are addressed (%)                            4\n",
      "Government and business stop sourcing goods and services produced by forced labour (%)                                                    4\n",
      "Government response total (%)                                                                                                             4\n",
      "dtype: int64\n"
     ]
    }
   ],
   "source": [
    "# Check for missing values in the entire dataset\n",
    "missing_values = gsi_data.isnull().sum()\n",
    "\n",
    "# Display columns with missing values\n",
    "print(missing_values[missing_values > 0])"
   ]
  },
  {
   "cell_type": "markdown",
   "id": "7cbe1ff9-235c-417b-b721-ef7c5b713173",
   "metadata": {},
   "source": [
    "#### Calculating the percentage of missing data"
   ]
  },
  {
   "cell_type": "code",
   "execution_count": 230,
   "id": "44e69995-065e-41aa-948b-66a2bb06307a",
   "metadata": {},
   "outputs": [
    {
     "name": "stdout",
     "output_type": "stream",
     "text": [
      "Estimated prevalence of modern slavery per 1,000 population                                                                              11.111111\n",
      "Estimated number of people in modern slavery                                                                                             11.111111\n",
      "Governance issues                                                                                                                        11.111111\n",
      "Lack of basic needs                                                                                                                      11.111111\n",
      "Inequality                                                                                                                               11.111111\n",
      "Disenfranchised groups                                                                                                                   11.111111\n",
      "Effects of conflict                                                                                                                      11.111111\n",
      "Total Vulnerability score (%)                                                                                                            11.111111\n",
      "Survivors of slavery are identified and supported to exit and remain out of modern slavery (%)                                            2.222222\n",
      "Criminal justice mechanisms function effectively to prevent modern slavery (%)                                                            2.222222\n",
      "Coordination occurs at the national and regional level and across borders, and governments are held to account for their response (%)     2.222222\n",
      "Risk factors, such as attitudes, social systems, and institutions that enable modern slavery are addressed (%)                            2.222222\n",
      "Government and business stop sourcing goods and services produced by forced labour (%)                                                    2.222222\n",
      "Government response total (%)                                                                                                             2.222222\n",
      "dtype: float64\n"
     ]
    }
   ],
   "source": [
    "# Calculate the percentage of missing values for each column\n",
    "missing_percentage = gsi_data.isnull().sum() / len(gsi_data) * 100\n",
    "\n",
    "# Display columns with missing values and their percentage\n",
    "print(missing_percentage[missing_percentage > 0])"
   ]
  },
  {
   "cell_type": "markdown",
   "id": "74c1e22d-8081-496c-97f6-61177745164e",
   "metadata": {},
   "source": [
    "### Handling missing values"
   ]
  },
  {
   "cell_type": "markdown",
   "id": "e117c72a-6071-4923-912a-e9fea5b6ac98",
   "metadata": {},
   "source": [
    "Since the percentage of missing values are less than 15% , then i will choose to impute the missing values instead of dropping the columns with missing values. Imputation has a minimal impact on the whole dataset and helps maintain a robust dataset."
   ]
  },
  {
   "cell_type": "code",
   "execution_count": 233,
   "id": "528cf647-fda5-44dd-9ce1-2a4d3279737e",
   "metadata": {},
   "outputs": [],
   "source": [
    "# Impute missing values with the mean for numerical columns\n",
    "gsi_data['Estimated prevalence of modern slavery per 1,000 population'].fillna(gsi_data['Estimated prevalence of modern slavery per 1,000 population'].mean(), inplace=True)\n",
    "gsi_data['Estimated number of people in modern slavery'].fillna(gsi_data['Estimated number of people in modern slavery'].mean(), inplace=True)\n",
    "gsi_data['Governance issues'].fillna(gsi_data['Governance issues'].mean(), inplace=True)\n",
    "gsi_data['Lack of basic needs'].fillna(gsi_data['Lack of basic needs'].mean(), inplace=True)\n",
    "gsi_data['Inequality'].fillna(gsi_data['Inequality'].mean(), inplace=True)\n",
    "gsi_data['Disenfranchised groups'].fillna(gsi_data['Disenfranchised groups'].mean(), inplace=True)\n",
    "gsi_data['Effects of conflict'].fillna(gsi_data['Effects of conflict'].mean(), inplace=True)\n",
    "gsi_data['Total Vulnerability score (%)'].fillna(gsi_data['Total Vulnerability score (%)'].mean(), inplace=True)\n",
    "gsi_data['Survivors of slavery are identified and supported to exit and remain out of modern slavery (%)'].fillna(gsi_data['Survivors of slavery are identified and supported to exit and remain out of modern slavery (%)'].mean(), inplace=True)\n",
    "gsi_data['Criminal justice mechanisms function effectively to prevent modern slavery (%)'].fillna(gsi_data['Criminal justice mechanisms function effectively to prevent modern slavery (%)'].mean(), inplace=True)\n",
    "gsi_data['Coordination occurs at the national and regional level and across borders, and governments are held to account for their response (%)'].fillna(gsi_data['Coordination occurs at the national and regional level and across borders, and governments are held to account for their response (%)'].mean(), inplace=True)\n",
    "gsi_data['Risk factors, such as attitudes, social systems, and institutions that enable modern slavery are addressed (%)'].fillna(gsi_data['Risk factors, such as attitudes, social systems, and institutions that enable modern slavery are addressed (%)'].mean(), inplace=True)\n",
    "gsi_data['Government and business stop sourcing goods and services produced by forced labour (%)'].fillna(gsi_data['Government and business stop sourcing goods and services produced by forced labour (%)'].mean(), inplace=True)\n",
    "gsi_data['Government response total (%)'].fillna(gsi_data['Government response total (%)'].mean(), inplace=True)"
   ]
  },
  {
   "cell_type": "markdown",
   "id": "6d19cc97-47e2-4295-8ba3-2bd35e0ffed0",
   "metadata": {},
   "source": [
    "#### Checking for missing values after imputation"
   ]
  },
  {
   "cell_type": "code",
   "execution_count": 235,
   "id": "e11cfb1b-3162-49d2-8f0a-b86b07afeb76",
   "metadata": {},
   "outputs": [
    {
     "name": "stdout",
     "output_type": "stream",
     "text": [
      "Series([], dtype: int64)\n"
     ]
    },
    {
     "data": {
      "text/plain": [
       "(180, 17)"
      ]
     },
     "execution_count": 235,
     "metadata": {},
     "output_type": "execute_result"
    }
   ],
   "source": [
    "# Check for missing values after imputation\n",
    "missing_values_after_imputation = gsi_data.isnull().sum()\n",
    "\n",
    "# Print columns with any remaining missing values\n",
    "print(missing_values_after_imputation[missing_values_after_imputation > 0])\n",
    "\n",
    "# Check the number of rows and columns in the dataset\n",
    "gsi_data.shape"
   ]
  },
  {
   "cell_type": "markdown",
   "id": "543fbc57-4cac-457c-9ebd-9e07c4faf264",
   "metadata": {},
   "source": [
    "There are NO MORE missing values in the dataset. And the number of rows still maintain to be 180 rows and 17 columns, since no culumn has been dropped."
   ]
  },
  {
   "cell_type": "markdown",
   "id": "6ccdb6d0-69a2-4cbb-a06a-51631405f9ab",
   "metadata": {},
   "source": [
    "#### Checking for duplicates"
   ]
  },
  {
   "cell_type": "code",
   "execution_count": 238,
   "id": "c2629b03-2e1f-4b06-a58b-bfd81c96325b",
   "metadata": {},
   "outputs": [
    {
     "name": "stdout",
     "output_type": "stream",
     "text": [
      "Number of duplicate rows: 0\n"
     ]
    }
   ],
   "source": [
    "# Check for duplicate rows\n",
    "duplicates = gsi_data.duplicated()\n",
    "\n",
    "# Display the number of duplicate rows\n",
    "print(f'Number of duplicate rows: {duplicates.sum()}')"
   ]
  },
  {
   "cell_type": "markdown",
   "id": "74aed1a2-275b-4d56-acf6-0aa7254d6b71",
   "metadata": {},
   "source": [
    "There are NO duplicates in the dataset"
   ]
  },
  {
   "cell_type": "markdown",
   "id": "9d7ca178-a5a6-4058-bb70-cefca10e85ab",
   "metadata": {},
   "source": [
    "#### Encoding columns with the categorical Values"
   ]
  },
  {
   "cell_type": "code",
   "execution_count": 241,
   "id": "c1dd1db4-ab3e-4b1b-a966-e90c2287b259",
   "metadata": {},
   "outputs": [
    {
     "name": "stdout",
     "output_type": "stream",
     "text": [
      "Index(['Country', 'Region'], dtype='object')\n"
     ]
    }
   ],
   "source": [
    "# Identify categorical columns\n",
    "categorical_columns = gsi_data.select_dtypes(include=['object', 'category']).columns\n",
    "print(categorical_columns)"
   ]
  },
  {
   "cell_type": "code",
   "execution_count": 242,
   "id": "a7f8dbbe-f580-470a-bb22-309aac834bd2",
   "metadata": {},
   "outputs": [
    {
     "data": {
      "text/html": [
       "<div>\n",
       "<style scoped>\n",
       "    .dataframe tbody tr th:only-of-type {\n",
       "        vertical-align: middle;\n",
       "    }\n",
       "\n",
       "    .dataframe tbody tr th {\n",
       "        vertical-align: top;\n",
       "    }\n",
       "\n",
       "    .dataframe thead th {\n",
       "        text-align: right;\n",
       "    }\n",
       "</style>\n",
       "<table border=\"1\" class=\"dataframe\">\n",
       "  <thead>\n",
       "    <tr style=\"text-align: right;\">\n",
       "      <th></th>\n",
       "      <th>Country</th>\n",
       "      <th>Population</th>\n",
       "      <th>Region</th>\n",
       "      <th>Estimated prevalence of modern slavery per 1,000 population</th>\n",
       "      <th>Estimated number of people in modern slavery</th>\n",
       "      <th>Governance issues</th>\n",
       "      <th>Lack of basic needs</th>\n",
       "      <th>Inequality</th>\n",
       "      <th>Disenfranchised groups</th>\n",
       "      <th>Effects of conflict</th>\n",
       "      <th>Total Vulnerability score (%)</th>\n",
       "      <th>Survivors of slavery are identified and supported to exit and remain out of modern slavery (%)</th>\n",
       "      <th>Criminal justice mechanisms function effectively to prevent modern slavery (%)</th>\n",
       "      <th>Coordination occurs at the national and regional level and across borders, and governments are held to account for their response (%)</th>\n",
       "      <th>Risk factors, such as attitudes, social systems, and institutions that enable modern slavery are addressed (%)</th>\n",
       "      <th>Government and business stop sourcing goods and services produced by forced labour (%)</th>\n",
       "      <th>Government response total (%)</th>\n",
       "    </tr>\n",
       "  </thead>\n",
       "  <tbody>\n",
       "    <tr>\n",
       "      <th>25</th>\n",
       "      <td>Burundi</td>\n",
       "      <td>11891000</td>\n",
       "      <td>Africa</td>\n",
       "      <td>7.506072</td>\n",
       "      <td>89000.0</td>\n",
       "      <td>76.551670</td>\n",
       "      <td>58.465070</td>\n",
       "      <td>53.708864</td>\n",
       "      <td>76.159576</td>\n",
       "      <td>45.629072</td>\n",
       "      <td>76.698949</td>\n",
       "      <td>22.727272</td>\n",
       "      <td>42.307693</td>\n",
       "      <td>62.500000</td>\n",
       "      <td>14.285714</td>\n",
       "      <td>0.000000</td>\n",
       "      <td>29.487179</td>\n",
       "    </tr>\n",
       "    <tr>\n",
       "      <th>52</th>\n",
       "      <td>Ethiopia</td>\n",
       "      <td>114964000</td>\n",
       "      <td>Africa</td>\n",
       "      <td>6.319561</td>\n",
       "      <td>727000.0</td>\n",
       "      <td>53.657061</td>\n",
       "      <td>58.946714</td>\n",
       "      <td>41.162818</td>\n",
       "      <td>79.059425</td>\n",
       "      <td>70.017937</td>\n",
       "      <td>67.225118</td>\n",
       "      <td>40.909092</td>\n",
       "      <td>53.846153</td>\n",
       "      <td>50.000000</td>\n",
       "      <td>57.142857</td>\n",
       "      <td>0.000000</td>\n",
       "      <td>44.871796</td>\n",
       "    </tr>\n",
       "    <tr>\n",
       "      <th>82</th>\n",
       "      <td>Kenya</td>\n",
       "      <td>53771000</td>\n",
       "      <td>Africa</td>\n",
       "      <td>5.003463</td>\n",
       "      <td>269000.0</td>\n",
       "      <td>56.757120</td>\n",
       "      <td>57.197418</td>\n",
       "      <td>48.087456</td>\n",
       "      <td>67.534394</td>\n",
       "      <td>63.209311</td>\n",
       "      <td>66.173292</td>\n",
       "      <td>54.545456</td>\n",
       "      <td>50.000000</td>\n",
       "      <td>50.000000</td>\n",
       "      <td>50.000000</td>\n",
       "      <td>0.000000</td>\n",
       "      <td>46.153847</td>\n",
       "    </tr>\n",
       "    <tr>\n",
       "      <th>134</th>\n",
       "      <td>Rwanda</td>\n",
       "      <td>12952000</td>\n",
       "      <td>Africa</td>\n",
       "      <td>4.252304</td>\n",
       "      <td>55000.0</td>\n",
       "      <td>39.768667</td>\n",
       "      <td>61.266299</td>\n",
       "      <td>39.343538</td>\n",
       "      <td>78.192625</td>\n",
       "      <td>31.262645</td>\n",
       "      <td>52.936825</td>\n",
       "      <td>54.545456</td>\n",
       "      <td>61.538460</td>\n",
       "      <td>37.500000</td>\n",
       "      <td>57.142857</td>\n",
       "      <td>0.000000</td>\n",
       "      <td>50.000000</td>\n",
       "    </tr>\n",
       "    <tr>\n",
       "      <th>146</th>\n",
       "      <td>Somalia</td>\n",
       "      <td>15893000</td>\n",
       "      <td>Africa</td>\n",
       "      <td>6.173291</td>\n",
       "      <td>98000.0</td>\n",
       "      <td>92.826190</td>\n",
       "      <td>62.223263</td>\n",
       "      <td>68.400000</td>\n",
       "      <td>85.755049</td>\n",
       "      <td>80.389259</td>\n",
       "      <td>98.366583</td>\n",
       "      <td>9.090909</td>\n",
       "      <td>26.923077</td>\n",
       "      <td>25.000000</td>\n",
       "      <td>21.428572</td>\n",
       "      <td>0.000000</td>\n",
       "      <td>17.948717</td>\n",
       "    </tr>\n",
       "    <tr>\n",
       "      <th>149</th>\n",
       "      <td>South Sudan</td>\n",
       "      <td>11194000</td>\n",
       "      <td>Africa</td>\n",
       "      <td>10.293152</td>\n",
       "      <td>115000.0</td>\n",
       "      <td>98.559206</td>\n",
       "      <td>57.334819</td>\n",
       "      <td>73.208631</td>\n",
       "      <td>86.487607</td>\n",
       "      <td>75.063965</td>\n",
       "      <td>100.000000</td>\n",
       "      <td>43.827479</td>\n",
       "      <td>53.222345</td>\n",
       "      <td>53.409091</td>\n",
       "      <td>47.727273</td>\n",
       "      <td>6.676136</td>\n",
       "      <td>44.833010</td>\n",
       "    </tr>\n",
       "    <tr>\n",
       "      <th>159</th>\n",
       "      <td>Tanzania</td>\n",
       "      <td>59734000</td>\n",
       "      <td>Africa</td>\n",
       "      <td>2.859691</td>\n",
       "      <td>171000.0</td>\n",
       "      <td>49.894392</td>\n",
       "      <td>52.976108</td>\n",
       "      <td>50.229403</td>\n",
       "      <td>63.720471</td>\n",
       "      <td>22.314152</td>\n",
       "      <td>53.259234</td>\n",
       "      <td>45.454544</td>\n",
       "      <td>53.846153</td>\n",
       "      <td>50.000000</td>\n",
       "      <td>35.714287</td>\n",
       "      <td>0.000000</td>\n",
       "      <td>42.307693</td>\n",
       "    </tr>\n",
       "    <tr>\n",
       "      <th>167</th>\n",
       "      <td>Uganda</td>\n",
       "      <td>45741000</td>\n",
       "      <td>Africa</td>\n",
       "      <td>4.151514</td>\n",
       "      <td>190000.0</td>\n",
       "      <td>48.010677</td>\n",
       "      <td>72.731170</td>\n",
       "      <td>51.523663</td>\n",
       "      <td>70.798195</td>\n",
       "      <td>29.098998</td>\n",
       "      <td>61.919639</td>\n",
       "      <td>50.000000</td>\n",
       "      <td>50.000000</td>\n",
       "      <td>75.000000</td>\n",
       "      <td>42.857143</td>\n",
       "      <td>0.000000</td>\n",
       "      <td>46.153847</td>\n",
       "    </tr>\n",
       "  </tbody>\n",
       "</table>\n",
       "</div>"
      ],
      "text/plain": [
       "         Country  Population  Region  \\\n",
       "25       Burundi    11891000  Africa   \n",
       "52      Ethiopia   114964000  Africa   \n",
       "82         Kenya    53771000  Africa   \n",
       "134       Rwanda    12952000  Africa   \n",
       "146      Somalia    15893000  Africa   \n",
       "149  South Sudan    11194000  Africa   \n",
       "159     Tanzania    59734000  Africa   \n",
       "167       Uganda    45741000  Africa   \n",
       "\n",
       "     Estimated prevalence of modern slavery per 1,000 population  \\\n",
       "25                                            7.506072             \n",
       "52                                            6.319561             \n",
       "82                                            5.003463             \n",
       "134                                           4.252304             \n",
       "146                                           6.173291             \n",
       "149                                          10.293152             \n",
       "159                                           2.859691             \n",
       "167                                           4.151514             \n",
       "\n",
       "     Estimated number of people in modern slavery  Governance issues  \\\n",
       "25                                        89000.0          76.551670   \n",
       "52                                       727000.0          53.657061   \n",
       "82                                       269000.0          56.757120   \n",
       "134                                       55000.0          39.768667   \n",
       "146                                       98000.0          92.826190   \n",
       "149                                      115000.0          98.559206   \n",
       "159                                      171000.0          49.894392   \n",
       "167                                      190000.0          48.010677   \n",
       "\n",
       "     Lack of basic needs  Inequality  Disenfranchised groups  \\\n",
       "25             58.465070   53.708864               76.159576   \n",
       "52             58.946714   41.162818               79.059425   \n",
       "82             57.197418   48.087456               67.534394   \n",
       "134            61.266299   39.343538               78.192625   \n",
       "146            62.223263   68.400000               85.755049   \n",
       "149            57.334819   73.208631               86.487607   \n",
       "159            52.976108   50.229403               63.720471   \n",
       "167            72.731170   51.523663               70.798195   \n",
       "\n",
       "     Effects of conflict  Total Vulnerability score (%)  \\\n",
       "25             45.629072                      76.698949   \n",
       "52             70.017937                      67.225118   \n",
       "82             63.209311                      66.173292   \n",
       "134            31.262645                      52.936825   \n",
       "146            80.389259                      98.366583   \n",
       "149            75.063965                     100.000000   \n",
       "159            22.314152                      53.259234   \n",
       "167            29.098998                      61.919639   \n",
       "\n",
       "     Survivors of slavery are identified and supported to exit and remain out of modern slavery (%)  \\\n",
       "25                                           22.727272                                                \n",
       "52                                           40.909092                                                \n",
       "82                                           54.545456                                                \n",
       "134                                          54.545456                                                \n",
       "146                                           9.090909                                                \n",
       "149                                          43.827479                                                \n",
       "159                                          45.454544                                                \n",
       "167                                          50.000000                                                \n",
       "\n",
       "     Criminal justice mechanisms function effectively to prevent modern slavery (%)  \\\n",
       "25                                           42.307693                                \n",
       "52                                           53.846153                                \n",
       "82                                           50.000000                                \n",
       "134                                          61.538460                                \n",
       "146                                          26.923077                                \n",
       "149                                          53.222345                                \n",
       "159                                          53.846153                                \n",
       "167                                          50.000000                                \n",
       "\n",
       "     Coordination occurs at the national and regional level and across borders, and governments are held to account for their response (%)  \\\n",
       "25                                           62.500000                                                                                       \n",
       "52                                           50.000000                                                                                       \n",
       "82                                           50.000000                                                                                       \n",
       "134                                          37.500000                                                                                       \n",
       "146                                          25.000000                                                                                       \n",
       "149                                          53.409091                                                                                       \n",
       "159                                          50.000000                                                                                       \n",
       "167                                          75.000000                                                                                       \n",
       "\n",
       "     Risk factors, such as attitudes, social systems, and institutions that enable modern slavery are addressed (%)  \\\n",
       "25                                           14.285714                                                                \n",
       "52                                           57.142857                                                                \n",
       "82                                           50.000000                                                                \n",
       "134                                          57.142857                                                                \n",
       "146                                          21.428572                                                                \n",
       "149                                          47.727273                                                                \n",
       "159                                          35.714287                                                                \n",
       "167                                          42.857143                                                                \n",
       "\n",
       "     Government and business stop sourcing goods and services produced by forced labour (%)  \\\n",
       "25                                            0.000000                                        \n",
       "52                                            0.000000                                        \n",
       "82                                            0.000000                                        \n",
       "134                                           0.000000                                        \n",
       "146                                           0.000000                                        \n",
       "149                                           6.676136                                        \n",
       "159                                           0.000000                                        \n",
       "167                                           0.000000                                        \n",
       "\n",
       "     Government response total (%)  \n",
       "25                       29.487179  \n",
       "52                       44.871796  \n",
       "82                       46.153847  \n",
       "134                      50.000000  \n",
       "146                      17.948717  \n",
       "149                      44.833010  \n",
       "159                      42.307693  \n",
       "167                      46.153847  "
      ]
     },
     "execution_count": 242,
     "metadata": {},
     "output_type": "execute_result"
    }
   ],
   "source": [
    "east_africa_countries = [\n",
    "    'Kenya', 'Tanzania', 'Uganda', 'Rwanda', 'Burundi', \n",
    "    'Ethiopia', 'Somalia', 'South Sudan'\n",
    "]\n",
    "\n",
    "# Filter the dataset for East African countries\n",
    "filtered_df = gsi_data[gsi_data['Country'].isin(east_africa_countries)]\n",
    "filtered_df\n",
    "\n",
    "# east_africa_counts = filtered_df['Estimated number of people in modern slavery '].value_counts()\n",
    "# print(east_africa_counts)"
   ]
  },
  {
   "cell_type": "markdown",
   "id": "c075415d-4454-4bcd-a4a1-a11ea3a23139",
   "metadata": {},
   "source": [
    "### Log transformation"
   ]
  },
  {
   "cell_type": "markdown",
   "id": "7fb1260f-1e29-485a-91e3-9dac31bbc1fc",
   "metadata": {},
   "source": [
    "##### Examining distribution of the two columns with bigger values"
   ]
  },
  {
   "cell_type": "code",
   "execution_count": 245,
   "id": "c9f582b6-2542-47c4-b484-0bd18fa874a4",
   "metadata": {},
   "outputs": [
    {
     "name": "stderr",
     "output_type": "stream",
     "text": [
      "C:\\Users\\Lenovo\\anaconda3\\Lib\\site-packages\\seaborn\\_oldcore.py:1119: FutureWarning: use_inf_as_na option is deprecated and will be removed in a future version. Convert inf values to NaN before operating instead.\n",
      "  with pd.option_context('mode.use_inf_as_na', True):\n"
     ]
    },
    {
     "data": {
      "image/png": "[encoded data removed]",
      "text/plain": [
       "<Figure size 1000x600 with 1 Axes>"
      ]
     },
     "metadata": {},
     "output_type": "display_data"
    },
    {
     "name": "stderr",
     "output_type": "stream",
     "text": [
      "C:\\Users\\Lenovo\\anaconda3\\Lib\\site-packages\\seaborn\\_oldcore.py:1119: FutureWarning: use_inf_as_na option is deprecated and will be removed in a future version. Convert inf values to NaN before operating instead.\n",
      "  with pd.option_context('mode.use_inf_as_na', True):\n"
     ]
    },
    {
     "data": {
      "image/png": "[encoded data removed]",
      "text/plain": [
       "<Figure size 1000x600 with 1 Axes>"
      ]
     },
     "metadata": {},
     "output_type": "display_data"
    }
   ],
   "source": [
    "import matplotlib.pyplot as plt\n",
    "import seaborn as sns\n",
    "\n",
    "# Check the distribution of the columns\n",
    "columns_to_check = ['Population','Estimated number of people in modern slavery']\n",
    "\n",
    "for column in columns_to_check:\n",
    "    plt.figure(figsize=(10, 6))\n",
    "    sns.histplot(gsi_data[column].dropna(), kde=True)\n",
    "    plt.title(f'Distribution of {column}')\n",
    "    plt.show()"
   ]
  },
  {
   "cell_type": "markdown",
   "id": "ec0976f2-07dd-4884-b560-7b6cc2a97486",
   "metadata": {},
   "source": [
    "The two columns ( 'Population', 'Estimated number of people in modern slavery') are highly skewed to the right which therefore requires log transformation."
   ]
  },
  {
   "cell_type": "markdown",
   "id": "854af853-d9d9-429e-9426-fb0832a881db",
   "metadata": {},
   "source": [
    "#### Applying log transformation"
   ]
  },
  {
   "cell_type": "code",
   "execution_count": 248,
   "id": "fe42af36-020e-4d50-9629-0ae32322efd1",
   "metadata": {},
   "outputs": [],
   "source": [
    "gsi_data['log_Population'] = np.log(gsi_data['Population'] +1)\n",
    "gsi_data['log_Estimated_modern_slavery'] = np.log(gsi_data['Estimated number of people in modern slavery'] +1)"
   ]
  },
  {
   "cell_type": "code",
   "execution_count": 249,
   "id": "cdb53f7b-c6fe-45d7-86fa-32a59d8d2d15",
   "metadata": {},
   "outputs": [
    {
     "name": "stdout",
     "output_type": "stream",
     "text": [
      "Index(['Country', 'Population', 'Region',\n",
      "       'Estimated prevalence of modern slavery per 1,000 population',\n",
      "       'Estimated number of people in modern slavery', 'Governance issues',\n",
      "       'Lack of basic needs', 'Inequality', 'Disenfranchised groups',\n",
      "       'Effects of conflict', 'Total Vulnerability score (%)',\n",
      "       'Survivors of slavery are identified and supported to exit and remain out of modern slavery (%)',\n",
      "       'Criminal justice mechanisms function effectively to prevent modern slavery (%)',\n",
      "       'Coordination occurs at the national and regional level and across borders, and governments are held to account for their response (%)',\n",
      "       'Risk factors, such as attitudes, social systems, and institutions that enable modern slavery are addressed (%)',\n",
      "       'Government and business stop sourcing goods and services produced by forced labour (%)',\n",
      "       'Government response total (%)', 'log_Population',\n",
      "       'log_Estimated_modern_slavery'],\n",
      "      dtype='object')\n"
     ]
    }
   ],
   "source": [
    "# Check the column names in the dataset\n",
    "print(gsi_data.columns)"
   ]
  },
  {
   "cell_type": "markdown",
   "id": "9649108d-af20-4232-9eaa-78813329b911",
   "metadata": {},
   "source": [
    "### Standardizing the dataset"
   ]
  },
  {
   "cell_type": "markdown",
   "id": "b50ddba3-3caa-4b62-ad77-61ab04eea6b6",
   "metadata": {},
   "source": [
    "I choose to work with standardization over normalization, since i will be working with Logistic Regression together with Decision trees.This algorithms benefits from standardization because it assumes the input data is normally distributed which help the model converge faster and make the coefficients more interpretable."
   ]
  },
  {
   "cell_type": "code",
   "execution_count": 252,
   "id": "7b4f4f66-f360-427b-9b09-cccc8d2b576f",
   "metadata": {},
   "outputs": [
    {
     "data": {
      "text/html": [
       "<div>\n",
       "<style scoped>\n",
       "    .dataframe tbody tr th:only-of-type {\n",
       "        vertical-align: middle;\n",
       "    }\n",
       "\n",
       "    .dataframe tbody tr th {\n",
       "        vertical-align: top;\n",
       "    }\n",
       "\n",
       "    .dataframe thead th {\n",
       "        text-align: right;\n",
       "    }\n",
       "</style>\n",
       "<table border=\"1\" class=\"dataframe\">\n",
       "  <thead>\n",
       "    <tr style=\"text-align: right;\">\n",
       "      <th></th>\n",
       "      <th>Country</th>\n",
       "      <th>Population</th>\n",
       "      <th>Region</th>\n",
       "      <th>Estimated prevalence of modern slavery per 1,000 population</th>\n",
       "      <th>Estimated number of people in modern slavery</th>\n",
       "      <th>Governance issues</th>\n",
       "      <th>Lack of basic needs</th>\n",
       "      <th>Inequality</th>\n",
       "      <th>Disenfranchised groups</th>\n",
       "      <th>Effects of conflict</th>\n",
       "      <th>Total Vulnerability score (%)</th>\n",
       "      <th>Survivors of slavery are identified and supported to exit and remain out of modern slavery (%)</th>\n",
       "      <th>Criminal justice mechanisms function effectively to prevent modern slavery (%)</th>\n",
       "      <th>Coordination occurs at the national and regional level and across borders, and governments are held to account for their response (%)</th>\n",
       "      <th>Risk factors, such as attitudes, social systems, and institutions that enable modern slavery are addressed (%)</th>\n",
       "      <th>Government and business stop sourcing goods and services produced by forced labour (%)</th>\n",
       "      <th>Government response total (%)</th>\n",
       "      <th>log_Population</th>\n",
       "      <th>log_Estimated_modern_slavery</th>\n",
       "    </tr>\n",
       "  </thead>\n",
       "  <tbody>\n",
       "    <tr>\n",
       "      <th>0</th>\n",
       "      <td>Afghanistan</td>\n",
       "      <td>-0.028049</td>\n",
       "      <td>Asia and the Pacific</td>\n",
       "      <td>0.562868</td>\n",
       "      <td>0.198199</td>\n",
       "      <td>1.361304e+00</td>\n",
       "      <td>7.252907e-01</td>\n",
       "      <td>1.749598e+00</td>\n",
       "      <td>8.137814e-01</td>\n",
       "      <td>3.116948e+00</td>\n",
       "      <td>1.863451</td>\n",
       "      <td>0.000000</td>\n",
       "      <td>5.746980e-16</td>\n",
       "      <td>-4.167283e-16</td>\n",
       "      <td>0.000000</td>\n",
       "      <td>-7.788918e-17</td>\n",
       "      <td>-5.761767e-16</td>\n",
       "      <td>0.589109</td>\n",
       "      <td>1.133805</td>\n",
       "    </tr>\n",
       "    <tr>\n",
       "      <th>1</th>\n",
       "      <td>Albania</td>\n",
       "      <td>-0.264171</td>\n",
       "      <td>Europe and Central Asia</td>\n",
       "      <td>0.451796</td>\n",
       "      <td>-0.280989</td>\n",
       "      <td>-4.177385e-01</td>\n",
       "      <td>-6.132364e-01</td>\n",
       "      <td>4.737491e-02</td>\n",
       "      <td>5.150308e-01</td>\n",
       "      <td>-4.280880e-01</td>\n",
       "      <td>-0.330631</td>\n",
       "      <td>0.634938</td>\n",
       "      <td>1.294786e+00</td>\n",
       "      <td>1.266292e+00</td>\n",
       "      <td>1.774277</td>\n",
       "      <td>5.107262e-01</td>\n",
       "      <td>1.354639e+00</td>\n",
       "      <td>-0.297755</td>\n",
       "      <td>-0.546593</td>\n",
       "    </tr>\n",
       "    <tr>\n",
       "      <th>2</th>\n",
       "      <td>Algeria</td>\n",
       "      <td>0.004196</td>\n",
       "      <td>Africa</td>\n",
       "      <td>-0.506858</td>\n",
       "      <td>-0.230120</td>\n",
       "      <td>3.280005e-01</td>\n",
       "      <td>-8.455647e-01</td>\n",
       "      <td>-7.823426e-01</td>\n",
       "      <td>-1.489655e-01</td>\n",
       "      <td>1.216481e-01</td>\n",
       "      <td>-0.163508</td>\n",
       "      <td>-1.249987</td>\n",
       "      <td>5.045457e-02</td>\n",
       "      <td>-9.330569e-01</td>\n",
       "      <td>-0.280149</td>\n",
       "      <td>-5.854666e-01</td>\n",
       "      <td>-7.245829e-01</td>\n",
       "      <td>0.629656</td>\n",
       "      <td>0.016684</td>\n",
       "    </tr>\n",
       "    <tr>\n",
       "      <th>3</th>\n",
       "      <td>Angola</td>\n",
       "      <td>-0.067754</td>\n",
       "      <td>Africa</td>\n",
       "      <td>-0.292295</td>\n",
       "      <td>-0.177216</td>\n",
       "      <td>1.924898e-01</td>\n",
       "      <td>1.684868e+00</td>\n",
       "      <td>7.369669e-01</td>\n",
       "      <td>6.526666e-01</td>\n",
       "      <td>-7.770662e-02</td>\n",
       "      <td>0.683505</td>\n",
       "      <td>0.904213</td>\n",
       "      <td>-5.717112e-01</td>\n",
       "      <td>5.331754e-01</td>\n",
       "      <td>-1.101920</td>\n",
       "      <td>-5.854666e-01</td>\n",
       "      <td>-1.008160e-01</td>\n",
       "      <td>0.531471</td>\n",
       "      <td>0.316766</td>\n",
       "    </tr>\n",
       "    <tr>\n",
       "      <th>4</th>\n",
       "      <td>Antigua and Barbuda</td>\n",
       "      <td>-0.282379</td>\n",
       "      <td>Americas</td>\n",
       "      <td>0.000000</td>\n",
       "      <td>0.000000</td>\n",
       "      <td>3.521164e-16</td>\n",
       "      <td>5.078271e-16</td>\n",
       "      <td>4.418942e-16</td>\n",
       "      <td>4.422191e-16</td>\n",
       "      <td>1.638992e-16</td>\n",
       "      <td>0.000000</td>\n",
       "      <td>-0.442162</td>\n",
       "      <td>5.045457e-02</td>\n",
       "      <td>5.331754e-01</td>\n",
       "      <td>0.130736</td>\n",
       "      <td>-5.854666e-01</td>\n",
       "      <td>-1.008160e-01</td>\n",
       "      <td>-1.448590</td>\n",
       "      <td>0.830268</td>\n",
       "    </tr>\n",
       "    <tr>\n",
       "      <th>5</th>\n",
       "      <td>Argentina</td>\n",
       "      <td>0.013006</td>\n",
       "      <td>Americas</td>\n",
       "      <td>-0.288205</td>\n",
       "      <td>-0.123294</td>\n",
       "      <td>-3.347629e-01</td>\n",
       "      <td>-7.193571e-01</td>\n",
       "      <td>6.274531e-01</td>\n",
       "      <td>-1.064776e+00</td>\n",
       "      <td>-7.256710e-01</td>\n",
       "      <td>-0.518396</td>\n",
       "      <td>0.365663</td>\n",
       "      <td>1.605869e+00</td>\n",
       "      <td>1.266292e+00</td>\n",
       "      <td>0.952507</td>\n",
       "      <td>-5.854666e-01</td>\n",
       "      <td>1.042756e+00</td>\n",
       "      <td>0.639943</td>\n",
       "      <td>0.521720</td>\n",
       "    </tr>\n",
       "    <tr>\n",
       "      <th>6</th>\n",
       "      <td>Armenia</td>\n",
       "      <td>-0.263614</td>\n",
       "      <td>Europe and Central Asia</td>\n",
       "      <td>0.173087</td>\n",
       "      <td>-0.289128</td>\n",
       "      <td>6.143024e-01</td>\n",
       "      <td>-5.718281e-01</td>\n",
       "      <td>-4.512334e-01</td>\n",
       "      <td>4.014226e-01</td>\n",
       "      <td>-4.449443e-01</td>\n",
       "      <td>0.075610</td>\n",
       "      <td>1.173488</td>\n",
       "      <td>3.615374e-01</td>\n",
       "      <td>1.266292e+00</td>\n",
       "      <td>0.130736</td>\n",
       "      <td>-5.854666e-01</td>\n",
       "      <td>7.308728e-01</td>\n",
       "      <td>-0.287844</td>\n",
       "      <td>-0.713660</td>\n",
       "    </tr>\n",
       "    <tr>\n",
       "      <th>7</th>\n",
       "      <td>Australia</td>\n",
       "      <td>-0.116000</td>\n",
       "      <td>Asia and the Pacific</td>\n",
       "      <td>-0.537212</td>\n",
       "      <td>-0.273867</td>\n",
       "      <td>-2.179895e+00</td>\n",
       "      <td>-7.641715e-01</td>\n",
       "      <td>-1.572681e+00</td>\n",
       "      <td>-1.949331e+00</td>\n",
       "      <td>-2.034348e-01</td>\n",
       "      <td>-1.867860</td>\n",
       "      <td>1.173488</td>\n",
       "      <td>1.294786e+00</td>\n",
       "      <td>1.266292e+00</td>\n",
       "      <td>1.774277</td>\n",
       "      <td>2.703112e+00</td>\n",
       "      <td>1.770484e+00</td>\n",
       "      <td>0.445067</td>\n",
       "      <td>-0.430002</td>\n",
       "    </tr>\n",
       "    <tr>\n",
       "      <th>8</th>\n",
       "      <td>Austria</td>\n",
       "      <td>-0.224033</td>\n",
       "      <td>Europe and Central Asia</td>\n",
       "      <td>-0.513395</td>\n",
       "      <td>-0.298284</td>\n",
       "      <td>-1.840737e+00</td>\n",
       "      <td>-1.231280e+00</td>\n",
       "      <td>-1.598637e+00</td>\n",
       "      <td>-1.561656e+00</td>\n",
       "      <td>-5.478034e-01</td>\n",
       "      <td>-1.811897</td>\n",
       "      <td>0.904213</td>\n",
       "      <td>9.837032e-01</td>\n",
       "      <td>1.266292e+00</td>\n",
       "      <td>1.363392</td>\n",
       "      <td>1.606919e+00</td>\n",
       "      <td>1.354639e+00</td>\n",
       "      <td>0.090682</td>\n",
       "      <td>-0.978260</td>\n",
       "    </tr>\n",
       "    <tr>\n",
       "      <th>9</th>\n",
       "      <td>Azerbaijan</td>\n",
       "      <td>-0.216612</td>\n",
       "      <td>Europe and Central Asia</td>\n",
       "      <td>0.330437</td>\n",
       "      <td>-0.206720</td>\n",
       "      <td>9.545000e-01</td>\n",
       "      <td>-3.585285e-01</td>\n",
       "      <td>-9.212328e-01</td>\n",
       "      <td>1.502246e+00</td>\n",
       "      <td>1.102308e-01</td>\n",
       "      <td>0.487204</td>\n",
       "      <td>1.173488</td>\n",
       "      <td>1.294786e+00</td>\n",
       "      <td>5.331754e-01</td>\n",
       "      <td>0.952507</td>\n",
       "      <td>-5.854666e-01</td>\n",
       "      <td>1.146717e+00</td>\n",
       "      <td>0.131030</td>\n",
       "      <td>0.167405</td>\n",
       "    </tr>\n",
       "  </tbody>\n",
       "</table>\n",
       "</div>"
      ],
      "text/plain": [
       "               Country  Population                   Region  \\\n",
       "0          Afghanistan   -0.028049     Asia and the Pacific   \n",
       "1              Albania   -0.264171  Europe and Central Asia   \n",
       "2              Algeria    0.004196                   Africa   \n",
       "3               Angola   -0.067754                   Africa   \n",
       "4  Antigua and Barbuda   -0.282379                 Americas   \n",
       "5            Argentina    0.013006                 Americas   \n",
       "6              Armenia   -0.263614  Europe and Central Asia   \n",
       "7            Australia   -0.116000     Asia and the Pacific   \n",
       "8              Austria   -0.224033  Europe and Central Asia   \n",
       "9           Azerbaijan   -0.216612  Europe and Central Asia   \n",
       "\n",
       "   Estimated prevalence of modern slavery per 1,000 population  \\\n",
       "0                                           0.562868             \n",
       "1                                           0.451796             \n",
       "2                                          -0.506858             \n",
       "3                                          -0.292295             \n",
       "4                                           0.000000             \n",
       "5                                          -0.288205             \n",
       "6                                           0.173087             \n",
       "7                                          -0.537212             \n",
       "8                                          -0.513395             \n",
       "9                                           0.330437             \n",
       "\n",
       "   Estimated number of people in modern slavery  Governance issues  \\\n",
       "0                                      0.198199       1.361304e+00   \n",
       "1                                     -0.280989      -4.177385e-01   \n",
       "2                                     -0.230120       3.280005e-01   \n",
       "3                                     -0.177216       1.924898e-01   \n",
       "4                                      0.000000       3.521164e-16   \n",
       "5                                     -0.123294      -3.347629e-01   \n",
       "6                                     -0.289128       6.143024e-01   \n",
       "7                                     -0.273867      -2.179895e+00   \n",
       "8                                     -0.298284      -1.840737e+00   \n",
       "9                                     -0.206720       9.545000e-01   \n",
       "\n",
       "   Lack of basic needs    Inequality  Disenfranchised groups  \\\n",
       "0         7.252907e-01  1.749598e+00            8.137814e-01   \n",
       "1        -6.132364e-01  4.737491e-02            5.150308e-01   \n",
       "2        -8.455647e-01 -7.823426e-01           -1.489655e-01   \n",
       "3         1.684868e+00  7.369669e-01            6.526666e-01   \n",
       "4         5.078271e-16  4.418942e-16            4.422191e-16   \n",
       "5        -7.193571e-01  6.274531e-01           -1.064776e+00   \n",
       "6        -5.718281e-01 -4.512334e-01            4.014226e-01   \n",
       "7        -7.641715e-01 -1.572681e+00           -1.949331e+00   \n",
       "8        -1.231280e+00 -1.598637e+00           -1.561656e+00   \n",
       "9        -3.585285e-01 -9.212328e-01            1.502246e+00   \n",
       "\n",
       "   Effects of conflict  Total Vulnerability score (%)  \\\n",
       "0         3.116948e+00                       1.863451   \n",
       "1        -4.280880e-01                      -0.330631   \n",
       "2         1.216481e-01                      -0.163508   \n",
       "3        -7.770662e-02                       0.683505   \n",
       "4         1.638992e-16                       0.000000   \n",
       "5        -7.256710e-01                      -0.518396   \n",
       "6        -4.449443e-01                       0.075610   \n",
       "7        -2.034348e-01                      -1.867860   \n",
       "8        -5.478034e-01                      -1.811897   \n",
       "9         1.102308e-01                       0.487204   \n",
       "\n",
       "   Survivors of slavery are identified and supported to exit and remain out of modern slavery (%)  \\\n",
       "0                                           0.000000                                                \n",
       "1                                           0.634938                                                \n",
       "2                                          -1.249987                                                \n",
       "3                                           0.904213                                                \n",
       "4                                          -0.442162                                                \n",
       "5                                           0.365663                                                \n",
       "6                                           1.173488                                                \n",
       "7                                           1.173488                                                \n",
       "8                                           0.904213                                                \n",
       "9                                           1.173488                                                \n",
       "\n",
       "   Criminal justice mechanisms function effectively to prevent modern slavery (%)  \\\n",
       "0                                       5.746980e-16                                \n",
       "1                                       1.294786e+00                                \n",
       "2                                       5.045457e-02                                \n",
       "3                                      -5.717112e-01                                \n",
       "4                                       5.045457e-02                                \n",
       "5                                       1.605869e+00                                \n",
       "6                                       3.615374e-01                                \n",
       "7                                       1.294786e+00                                \n",
       "8                                       9.837032e-01                                \n",
       "9                                       1.294786e+00                                \n",
       "\n",
       "   Coordination occurs at the national and regional level and across borders, and governments are held to account for their response (%)  \\\n",
       "0                                      -4.167283e-16                                                                                       \n",
       "1                                       1.266292e+00                                                                                       \n",
       "2                                      -9.330569e-01                                                                                       \n",
       "3                                       5.331754e-01                                                                                       \n",
       "4                                       5.331754e-01                                                                                       \n",
       "5                                       1.266292e+00                                                                                       \n",
       "6                                       1.266292e+00                                                                                       \n",
       "7                                       1.266292e+00                                                                                       \n",
       "8                                       1.266292e+00                                                                                       \n",
       "9                                       5.331754e-01                                                                                       \n",
       "\n",
       "   Risk factors, such as attitudes, social systems, and institutions that enable modern slavery are addressed (%)  \\\n",
       "0                                           0.000000                                                                \n",
       "1                                           1.774277                                                                \n",
       "2                                          -0.280149                                                                \n",
       "3                                          -1.101920                                                                \n",
       "4                                           0.130736                                                                \n",
       "5                                           0.952507                                                                \n",
       "6                                           0.130736                                                                \n",
       "7                                           1.774277                                                                \n",
       "8                                           1.363392                                                                \n",
       "9                                           0.952507                                                                \n",
       "\n",
       "   Government and business stop sourcing goods and services produced by forced labour (%)  \\\n",
       "0                                      -7.788918e-17                                        \n",
       "1                                       5.107262e-01                                        \n",
       "2                                      -5.854666e-01                                        \n",
       "3                                      -5.854666e-01                                        \n",
       "4                                      -5.854666e-01                                        \n",
       "5                                      -5.854666e-01                                        \n",
       "6                                      -5.854666e-01                                        \n",
       "7                                       2.703112e+00                                        \n",
       "8                                       1.606919e+00                                        \n",
       "9                                      -5.854666e-01                                        \n",
       "\n",
       "   Government response total (%)  log_Population  log_Estimated_modern_slavery  \n",
       "0                  -5.761767e-16        0.589109                      1.133805  \n",
       "1                   1.354639e+00       -0.297755                     -0.546593  \n",
       "2                  -7.245829e-01        0.629656                      0.016684  \n",
       "3                  -1.008160e-01        0.531471                      0.316766  \n",
       "4                  -1.008160e-01       -1.448590                      0.830268  \n",
       "5                   1.042756e+00        0.639943                      0.521720  \n",
       "6                   7.308728e-01       -0.287844                     -0.713660  \n",
       "7                   1.770484e+00        0.445067                     -0.430002  \n",
       "8                   1.354639e+00        0.090682                     -0.978260  \n",
       "9                   1.146717e+00        0.131030                      0.167405  "
      ]
     },
     "execution_count": 252,
     "metadata": {},
     "output_type": "execute_result"
    }
   ],
   "source": [
    "# Instantiate the scaler\n",
    "scaler = StandardScaler()\n",
    "\n",
    "# Selecting the numerical columns\n",
    "columns_to_scale = gsi_data.select_dtypes(include=[np.number]).columns  \n",
    "\n",
    "# Applying standardization\n",
    "gsi_data[columns_to_scale] = scaler.fit_transform(gsi_data[columns_to_scale])\n",
    "\n",
    "# Verifying the standardization\n",
    "gsi_data.head(10)"
   ]
  },
  {
   "cell_type": "markdown",
   "id": "2d52dfa2-09ab-4049-8665-748bb9ba9be8",
   "metadata": {},
   "source": [
    "#### Displaying statistics for standadized features"
   ]
  },
  {
   "cell_type": "code",
   "execution_count": 254,
   "id": "6abd3c62-9220-4585-baa8-0830a6d3bcc3",
   "metadata": {},
   "outputs": [
    {
     "name": "stdout",
     "output_type": "stream",
     "text": [
      "       Governance issues  Lack of basic needs  Total Vulnerability score (%)  \\\n",
      "count       1.800000e+02         1.800000e+02                   1.800000e+02   \n",
      "mean        5.033011e-16         2.467162e-16                  -5.921189e-17   \n",
      "std         1.002789e+00         1.002789e+00                   1.002789e+00   \n",
      "min        -2.179895e+00        -1.553521e+00                  -2.141246e+00   \n",
      "25%        -4.581457e-01        -8.377875e-01                  -5.019988e-01   \n",
      "50%         3.521164e-16         5.078271e-16                   0.000000e+00   \n",
      "75%         6.197084e-01         7.642934e-01                   5.715394e-01   \n",
      "max         2.538267e+00         2.592890e+00                   2.513945e+00   \n",
      "\n",
      "       Criminal justice mechanisms function effectively to prevent modern slavery (%)  \\\n",
      "count                                       1.800000e+02                                \n",
      "mean                                        3.268990e-16                                \n",
      "std                                         1.002789e+00                                \n",
      "min                                        -3.682540e+00                                \n",
      "25%                                        -5.717112e-01                                \n",
      "50%                                         5.045457e-02                                \n",
      "75%                                         9.837032e-01                                \n",
      "max                                         2.228035e+00                                \n",
      "\n",
      "       Effects of conflict  \n",
      "count         1.800000e+02  \n",
      "mean          1.406282e-16  \n",
      "std           1.002789e+00  \n",
      "min          -1.378623e+00  \n",
      "25%          -6.998560e-01  \n",
      "50%          -1.909729e-01  \n",
      "75%           1.121107e-01  \n",
      "max           3.116948e+00  \n"
     ]
    }
   ],
   "source": [
    "# Display basic statistics for the standardized features\n",
    "print(gsi_data[['Governance issues', 'Lack of basic needs', 'Total Vulnerability score (%)', 'Criminal justice mechanisms function effectively to prevent modern slavery (%)', 'Effects of conflict']].describe())"
   ]
  },
  {
   "cell_type": "markdown",
   "id": "91442111-eddb-44e0-a491-5149081b79e3",
   "metadata": {},
   "source": [
    "## EDA (Exploratory Data Analysis)"
   ]
  },
  {
   "cell_type": "markdown",
   "id": "49eb7dd2-9857-47ba-937b-14b6584a3b74",
   "metadata": {},
   "source": [
    "### Adding a new column 'Slavery type'"
   ]
  },
  {
   "cell_type": "markdown",
   "id": "2e17c7b9-6f33-484d-9bcb-0fd1a70bf5b7",
   "metadata": {},
   "source": [
    "I choose to add a new column 'Slavery Type' since we do not have such a column and my objective is to classify countries based on their vulnerability to  different types of Modern Slavery."
   ]
  },
  {
   "cell_type": "code",
   "execution_count": 258,
   "id": "801542f4-9428-4e9a-93c0-3cccc82e4441",
   "metadata": {},
   "outputs": [],
   "source": [
    "\n",
    "def classify_slavery(row):\n",
    "    # Define thresholds based on 1 standard deviation from the mean\n",
    "    if row['Lack of basic needs'] > 1 or row['Total Vulnerability score (%)'] > 1:\n",
    "        return 'Forced Labor'\n",
    "    elif row['Governance issues'] > 1 or row['Criminal justice mechanisms function effectively to prevent modern slavery (%)'] < 0.2:\n",
    "        return 'Human Trafficking'\n",
    "    elif row['Effects of conflict'] > 1:\n",
    "        return 'Child Exploitation'\n",
    "    else:\n",
    "        return 'Other'\n",
    "\n",
    "# Apply the classification function to create the 'Slavery_Type' column\n",
    "gsi_data['Slavery_Type'] = gsi_data.apply(classify_slavery, axis=1)\n",
    "\n"
   ]
  },
  {
   "cell_type": "code",
   "execution_count": 259,
   "id": "0e9b805b-0899-45c1-9067-a8061e3b3126",
   "metadata": {},
   "outputs": [
    {
     "name": "stdout",
     "output_type": "stream",
     "text": [
      "                   Country                   Region        Slavery_Type\n",
      "0              Afghanistan     Asia and the Pacific        Forced Labor\n",
      "1                  Albania  Europe and Central Asia               Other\n",
      "2                  Algeria                   Africa   Human Trafficking\n",
      "3                   Angola                   Africa        Forced Labor\n",
      "4      Antigua and Barbuda                 Americas   Human Trafficking\n",
      "5                Argentina                 Americas               Other\n",
      "6                  Armenia  Europe and Central Asia               Other\n",
      "7                Australia     Asia and the Pacific               Other\n",
      "8                  Austria  Europe and Central Asia               Other\n",
      "9               Azerbaijan  Europe and Central Asia               Other\n",
      "10                 Bahamas                 Americas               Other\n",
      "11                 Bahrain              Arab States   Human Trafficking\n",
      "12              Bangladesh     Asia and the Pacific  Child Exploitation\n",
      "13                Barbados                 Americas   Human Trafficking\n",
      "14                 Belarus  Europe and Central Asia   Human Trafficking\n",
      "15                 Belgium  Europe and Central Asia               Other\n",
      "16                  Belize                 Americas               Other\n",
      "17                   Benin                   Africa   Human Trafficking\n",
      "18                 Bolivia                 Americas               Other\n",
      "19  Bosnia and Herzegovina  Europe and Central Asia               Other\n"
     ]
    }
   ],
   "source": [
    "# Verify the new column\n",
    "print(gsi_data[['Country', 'Region', 'Slavery_Type']].head(20))"
   ]
  },
  {
   "cell_type": "markdown",
   "id": "c1f47051-e96d-4e54-bbec-b07351ab34d2",
   "metadata": {},
   "source": [
    "#### Checking the count of the 'Slavery Type'"
   ]
  },
  {
   "cell_type": "code",
   "execution_count": 261,
   "id": "d4ed6d91-56dc-4130-8034-158070e222cd",
   "metadata": {},
   "outputs": [
    {
     "name": "stdout",
     "output_type": "stream",
     "text": [
      "\n",
      "Counts of each Slavery Type:\n",
      "Slavery_Type\n",
      "Human Trafficking     69\n",
      "Other                 63\n",
      "Forced Labor          44\n",
      "Child Exploitation     4\n",
      "Name: count, dtype: int64\n"
     ]
    }
   ],
   "source": [
    "# Count each unique value in the 'Slavery_Type' column\n",
    "slavery_type_counts = gsi_data['Slavery_Type'].value_counts()\n",
    "\n",
    "# Print the counts\n",
    "print(\"\\nCounts of each Slavery Type:\")\n",
    "print(slavery_type_counts)"
   ]
  },
  {
   "cell_type": "markdown",
   "id": "2d8a4937-c9c7-4f4e-be88-569b08ec390e",
   "metadata": {},
   "source": [
    "#### Getting the list of countries with their slavery type"
   ]
  },
  {
   "cell_type": "code",
   "execution_count": 263,
   "id": "71e23b7d-971f-4f4a-bff7-aa89b36b77cd",
   "metadata": {},
   "outputs": [
    {
     "name": "stdout",
     "output_type": "stream",
     "text": [
      "Countries with Forced Labor:\n",
      "['Afghanistan', 'Angola', 'Burundi', 'Cambodia', 'Cameroon', 'Central African Republic', 'Chad', 'Democratic Republic of the Congo', 'Djibouti', 'Equatorial Guinea', 'Eritrea', 'Ethiopia', 'Guinea-Bissau', 'Haiti', 'Iran', 'Iraq', 'Kenya', 'Lao PDR', 'Lesotho', 'Liberia', 'Libya', 'Madagascar', 'Mali', 'Mozambique', 'Namibia', 'Nepal', 'Niger', 'Nigeria', 'North Korea', 'Pakistan', 'Papua New Guinea', 'Philippines', 'Republic of the Congo', 'Rwanda', 'Sierra Leone', 'Somalia', 'South Sudan', 'Sudan', 'Syria', 'Timor-Leste', 'Uganda', 'Yemen', 'Zambia', 'Zimbabwe']\n",
      "\n",
      "Countries with Human Trafficking:\n",
      "['Algeria', 'Antigua and Barbuda', 'Bahrain', 'Barbados', 'Belarus', 'Benin', 'Botswana', 'Brazil', 'Brunei Darussalam', 'Burkina Faso', 'Cape Verde', 'China', 'Colombia', \"Côte d'Ivoire\", 'Cuba', 'Egypt', 'Estonia', 'Eswatini', 'Fiji', 'Gabon', 'Ghana', 'Guatemala', 'Guinea', 'Honduras', 'Hong Kong', 'Iceland', 'Israel', 'Japan', 'Jordan', 'Kazakhstan', 'Kosovo', 'Kuwait', 'Lebanon', 'Liechtenstein', 'Malawi', 'Maldives', 'Mauritania', 'Mauritius', 'Moldova', 'Mongolia', 'Morocco', 'Myanmar', 'Nicaragua', 'Oman', 'Palau', 'Qatar', 'Russia', 'Saint Vincent and the Grenadines', 'Saudi Arabia', 'Senegal', 'Seychelles', 'Singapore', 'Solomon Islands', 'South Korea', 'Suriname', 'Switzerland', 'Taiwan', 'Tajikistan', 'Tanzania', 'Togo', 'Tunisia', 'Türkiye', 'Turkmenistan', 'Ukraine', 'United Arab Emirates', 'Uzbekistan', 'Vanuatu', 'Venezuela', 'Viet Nam']\n",
      "\n",
      "Countries with Child Exploitation:\n",
      "['Bangladesh', 'India', 'Mexico', 'Thailand']\n"
     ]
    }
   ],
   "source": [
    "# listing countries for each type of slavery type\n",
    "forced_labor_countries = gsi_data[gsi_data['Slavery_Type'] == 'Forced Labor']['Country'].tolist()\n",
    "human_trafficking_countries = gsi_data[gsi_data['Slavery_Type'] == 'Human Trafficking']['Country'].tolist()\n",
    "child_exploitation_countries = gsi_data[gsi_data['Slavery_Type'] == 'Child Exploitation']['Country'].tolist()\n",
    "\n",
    "# Printing the lists\n",
    "print(\"Countries with Forced Labor:\")\n",
    "print(forced_labor_countries)\n",
    "\n",
    "print(\"\\nCountries with Human Trafficking:\")\n",
    "print(human_trafficking_countries)\n",
    "\n",
    "print(\"\\nCountries with Child Exploitation:\")\n",
    "print(child_exploitation_countries)"
   ]
  },
  {
   "cell_type": "markdown",
   "id": "2ac049b8-feb7-4ddd-9e9e-db105bd747f6",
   "metadata": {},
   "source": [
    "#### A visualization showing Number of Countries  by Type of Modern Slavery"
   ]
  },
  {
   "cell_type": "code",
   "execution_count": 265,
   "id": "5529e800-d269-48fd-bdf2-206dca691095",
   "metadata": {},
   "outputs": [
    {
     "data": {
      "image/png": "[encoded data removed]",
      "text/plain": [
       "<Figure size 1000x600 with 1 Axes>"
      ]
     },
     "metadata": {},
     "output_type": "display_data"
    }
   ],
   "source": [
    "import matplotlib.pyplot as plt\n",
    "\n",
    "# Visualizing the counts of each Slavery Type\n",
    "plt.figure(figsize=(10, 6))\n",
    "plt.bar(slavery_type_counts.index, slavery_type_counts.values, color=['blue', 'green', 'red'])\n",
    "\n",
    "#Adding titles and labels\n",
    "plt.title('Number of Countries by Type of Modern Slavery')\n",
    "plt.xlabel('Type of Modern Slavery')\n",
    "plt.ylabel('Number of Countries')\n",
    "plt.show()"
   ]
  },
  {
   "cell_type": "markdown",
   "id": "75522ac5-7a56-4204-9306-306c4dd491de",
   "metadata": {},
   "source": [
    "### Observations"
   ]
  },
  {
   "cell_type": "markdown",
   "id": "3f8198d5-bc05-4524-94da-e7e69cbfec51",
   "metadata": {},
   "source": [
    "Human trafficking is the most prevalent form of modern slavery in the dataset, with 69 occurrences. This indicates that a significant portion of the population is affected by or at risk of human trafficking. Where the human traficking is a combination of poor Governance and a poor Criminal justice mechanism.\n",
    "\n",
    "The \"Other\" category has 63 cases. This suggests that there are various forms of modern slavery that do not fit into the specified categories, and they collectively represent a large portion of the problem.\n",
    "\n",
    "Forced labor is the third most common type of modern slavery, with 44 cases. This indicates that a considerable number of people are subjected to forced labor, highlighting the ongoing exploitation of individuals in work environments. Forced labour is categotrized by luck of basic needs and vulnerability of the people.\n",
    "\n",
    "Child exploitation is the least common form of modern slavery in the dataset, with only 4 recorded cases. However, despite the lower number, the impact on affected children is likely severe, making this a critical issue even if it appears less frequently in the data.Child Exploitation is categorized by the effects of conflicts in the society which directly affects the children."
   ]
  },
  {
   "cell_type": "markdown",
   "id": "7ad59563-82a1-4801-939f-5799a301306c",
   "metadata": {},
   "source": [
    "### Plotting Estimation Prevalence for  Modern Slavery for the First Five Countries"
   ]
  },
  {
   "cell_type": "code",
   "execution_count": 269,
   "id": "120e738c-b228-4598-89f7-be5f5e722749",
   "metadata": {},
   "outputs": [],
   "source": [
    "import matplotlib.pyplot as plt\n",
    "# Select the first 5 countries\n",
    "top_5_countries = gsi_data[['Country', 'Estimated prevalence of modern slavery per 1,000 population']].head(5)"
   ]
  },
  {
   "cell_type": "code",
   "execution_count": 270,
   "id": "8b62e3f0-cb66-45bc-8a43-7a0e5534cfb0",
   "metadata": {},
   "outputs": [
    {
     "data": {
      "image/png": "[encoded data removed]",
      "text/plain": [
       "<Figure size 1000x600 with 1 Axes>"
      ]
     },
     "metadata": {},
     "output_type": "display_data"
    }
   ],
   "source": [
    "# Line Plot\n",
    "plt.figure(figsize=(10, 6))\n",
    "plt.plot(top_5_countries['Country'], top_5_countries['Estimated prevalence of modern slavery per 1,000 population'], marker='o', linestyle='-', color='orange')\n",
    "plt.title('Estimated Prevalence of Modern Slavery per 1,000 Population')\n",
    "plt.xlabel('Country')\n",
    "plt.ylabel('Prevalence (per 1,000 Population)')\n",
    "plt.grid(True)\n",
    "plt.show()"
   ]
  },
  {
   "cell_type": "markdown",
   "id": "40cd740d-0f71-49ee-b315-bc7db03fae63",
   "metadata": {},
   "source": [
    "### Observations\n",
    "\n",
    "Afghanistan has the highest estimated prevalence of modern slavery, indicating a relatively higher issue compared to the others.\n",
    "Algeria and Angola shows a negative value suggesting it has a very low prevalence to modern slavery."
   ]
  },
  {
   "cell_type": "markdown",
   "id": "b44553cb-c995-457e-b895-3785fbde53a5",
   "metadata": {},
   "source": [
    "### Plotting an Estimation of Number of people in modern Slavery by country"
   ]
  },
  {
   "cell_type": "code",
   "execution_count": 273,
   "id": "4ef3f38f-3a29-4e2b-9f02-7ca9515615dd",
   "metadata": {},
   "outputs": [
    {
     "data": {
      "image/png": "[encoded data removed]",
      "text/plain": [
       "<Figure size 1000x600 with 1 Axes>"
      ]
     },
     "metadata": {},
     "output_type": "display_data"
    }
   ],
   "source": [
    "import matplotlib.pyplot as plt\n",
    "\n",
    "first_5_countries = gsi_data[['Country', 'Estimated prevalence of modern slavery per 1,000 population']].head(5)\n",
    "\n",
    "# # Sample data, replace with your actual dataset\n",
    "countries = ['Afghanistan', 'Albania', 'Algeria', 'Angola', 'Antigua and Barbuda']\n",
    "estimated_slavery = [505000, 34000, 84000, 136000, 0] \n",
    "\n",
    "plt.figure(figsize=(10, 6))\n",
    "plt.bar(countries, estimated_slavery,  color='teal')\n",
    "\n",
    "# Adding titles and labels\n",
    "plt.title('Estimated Number of People in Modern Slavery by Country')\n",
    "plt.xlabel('Country')\n",
    "plt.ylabel('Estimated Number of People in Modern Slavery')\n",
    "\n",
    "# Display the plot\n",
    "plt.show()"
   ]
  },
  {
   "cell_type": "markdown",
   "id": "9e380454-0287-42d6-94c3-a80b195528ce",
   "metadata": {},
   "source": [
    "### Observations"
   ]
  },
  {
   "cell_type": "markdown",
   "id": "14fc2841-7efa-403e-873b-fe0050a13b86",
   "metadata": {},
   "source": [
    "The country with the highest number of people in Modern Slavery is Afaghanistan with an estimation of around 500,000 people. Angola having more than a 100,000 people still in modern slavery. Antigua nd Barbuda has a missing value of the estimated number of people, while Albania having less than 50,000 people still living in modern slavery."
   ]
  },
  {
   "cell_type": "markdown",
   "id": "a0cfe23f-88a3-43c0-a33d-b3b1ba30a0f5",
   "metadata": {},
   "source": [
    "### Visualizing the estimated number of people in modern slavery in east africa countries"
   ]
  },
  {
   "cell_type": "code",
   "execution_count": 277,
   "id": "ce2b36aa-49e3-4723-8aad-6d370b425003",
   "metadata": {},
   "outputs": [
    {
     "data": {
      "image/png": "[encoded data removed]",
      "text/plain": [
       "<Figure size 1000x600 with 1 Axes>"
      ]
     },
     "metadata": {},
     "output_type": "display_data"
    }
   ],
   "source": [
    "import pandas as pd\n",
    "import matplotlib.pyplot as plt\n",
    "\n",
    "# Define the East African countries and their estimated number of people in modern slavery\n",
    "east_africa_countries = ['Kenya', 'Tanzania', 'Uganda', 'Rwanda', 'Burundi', 'South Sudan', 'Ethiopia']\n",
    "estimated_number_of_people = [269000, 171000, 190000, 55000, 89000, 115000, 727000]\n",
    "\n",
    "# Create a DataFrame for plotting\n",
    "plot_data = pd.DataFrame({\n",
    "    'Country': east_africa_countries,\n",
    "    'Estimated Number of People in Modern Slavery': estimated_number_of_people\n",
    "})\n",
    "\n",
    "# Plotting the estimated number of people in modern slavery for East African countries\n",
    "plt.figure(figsize=(10, 6))\n",
    "plt.bar(plot_data['Country'], plot_data['Estimated Number of People in Modern Slavery'], color='teal')\n",
    "\n",
    "# Adding titles and labels\n",
    "plt.title('Estimated Number of People in Modern Slavery in East African Countries')\n",
    "plt.xlabel('Country')\n",
    "plt.ylabel('Estimated Number of People in Modern Slavery')\n",
    "plt.xticks(rotation=45)\n",
    "plt.show()"
   ]
  },
  {
   "cell_type": "markdown",
   "id": "c2bf1287-ff8f-4797-81c5-58dfafd6870c",
   "metadata": {},
   "source": [
    "### Observations"
   ]
  },
  {
   "cell_type": "markdown",
   "id": "85dc364f-3b48-4818-9288-25e4512b65d9",
   "metadata": {},
   "source": [
    "In East Africa Countries, Ethiopia is the leading with 700,000 people living in modern slavery. Followed by Kenya with approximately 250,000 people still living in modern slavery.Rwanda having the least number of people in modern slavery."
   ]
  },
  {
   "cell_type": "markdown",
   "id": "1bdcbf7c-ee29-4a73-b41b-decd918c4350",
   "metadata": {},
   "source": [
    "## Splitting the data"
   ]
  },
  {
   "cell_type": "code",
   "execution_count": 281,
   "id": "06aaa0c0-cb7d-4b1d-9fb8-9ef9f55489f3",
   "metadata": {},
   "outputs": [],
   "source": [
    "# Define features and target variable\n",
    "features = ['Governance issues', 'Lack of basic needs', 'Total Vulnerability score (%)',\n",
    "             'Criminal justice mechanisms function effectively to prevent modern slavery (%)',\n",
    "             'Effects of conflict']\n",
    "target = 'Slavery_Type'\n",
    "\n",
    "# Split the data into features and target variable\n",
    "X = gsi_data[features]\n",
    "y = gsi_data[target]"
   ]
  },
  {
   "cell_type": "code",
   "execution_count": 282,
   "id": "889f3260-8b49-4300-9504-c45fab97f11f",
   "metadata": {},
   "outputs": [],
   "source": [
    "# Split the data into training and test sets\n",
    "X_train, X_test, y_train, y_test = train_test_split(X, y, test_size=0.3, random_state=42)"
   ]
  },
  {
   "cell_type": "markdown",
   "id": "c36ce914-2cdd-4b8e-9412-341cc52d176b",
   "metadata": {},
   "source": [
    "## Introducing the models"
   ]
  },
  {
   "cell_type": "markdown",
   "id": "b8321b71-2280-4708-a20b-b3d859f12eae",
   "metadata": {},
   "source": [
    "## Logistic Regression"
   ]
  },
  {
   "cell_type": "code",
   "execution_count": 285,
   "id": "b122bfd3-d859-445c-abea-1a4d3baa3ba3",
   "metadata": {},
   "outputs": [],
   "source": [
    "# Instantiating the model\n",
    "log_reg = LogisticRegression(class_weight='balanced', max_iter=1000, random_state=42)"
   ]
  },
  {
   "cell_type": "markdown",
   "id": "320db4ab-9f01-49a1-b5d2-fc198d1f0798",
   "metadata": {},
   "source": [
    "#### Training the model"
   ]
  },
  {
   "cell_type": "code",
   "execution_count": 287,
   "id": "f7f07a72-a094-4b23-b3ac-723337034095",
   "metadata": {},
   "outputs": [
    {
     "data": {
      "text/html": [
       "<style>#sk-container-id-5 {color: black;background-color: white;}#sk-container-id-5 pre{padding: 0;}#sk-container-id-5 div.sk-toggleable {background-color: white;}#sk-container-id-5 label.sk-toggleable__label {cursor: pointer;display: block;width: 100%;margin-bottom: 0;padding: 0.3em;box-sizing: border-box;text-align: center;}#sk-container-id-5 label.sk-toggleable__label-arrow:before {content: \"▸\";float: left;margin-right: 0.25em;color: #696969;}#sk-container-id-5 label.sk-toggleable__label-arrow:hover:before {color: black;}#sk-container-id-5 div.sk-estimator:hover label.sk-toggleable__label-arrow:before {color: black;}#sk-container-id-5 div.sk-toggleable__content {max-height: 0;max-width: 0;overflow: hidden;text-align: left;background-color: #f0f8ff;}#sk-container-id-5 div.sk-toggleable__content pre {margin: 0.2em;color: black;border-radius: 0.25em;background-color: #f0f8ff;}#sk-container-id-5 input.sk-toggleable__control:checked~div.sk-toggleable__content {max-height: 200px;max-width: 100%;overflow: auto;}#sk-container-id-5 input.sk-toggleable__control:checked~label.sk-toggleable__label-arrow:before {content: \"▾\";}#sk-container-id-5 div.sk-estimator input.sk-toggleable__control:checked~label.sk-toggleable__label {background-color: #d4ebff;}#sk-container-id-5 div.sk-label input.sk-toggleable__control:checked~label.sk-toggleable__label {background-color: #d4ebff;}#sk-container-id-5 input.sk-hidden--visually {border: 0;clip: rect(1px 1px 1px 1px);clip: rect(1px, 1px, 1px, 1px);height: 1px;margin: -1px;overflow: hidden;padding: 0;position: absolute;width: 1px;}#sk-container-id-5 div.sk-estimator {font-family: monospace;background-color: #f0f8ff;border: 1px dotted black;border-radius: 0.25em;box-sizing: border-box;margin-bottom: 0.5em;}#sk-container-id-5 div.sk-estimator:hover {background-color: #d4ebff;}#sk-container-id-5 div.sk-parallel-item::after {content: \"\";width: 100%;border-bottom: 1px solid gray;flex-grow: 1;}#sk-container-id-5 div.sk-label:hover label.sk-toggleable__label {background-color: #d4ebff;}#sk-container-id-5 div.sk-serial::before {content: \"\";position: absolute;border-left: 1px solid gray;box-sizing: border-box;top: 0;bottom: 0;left: 50%;z-index: 0;}#sk-container-id-5 div.sk-serial {display: flex;flex-direction: column;align-items: center;background-color: white;padding-right: 0.2em;padding-left: 0.2em;position: relative;}#sk-container-id-5 div.sk-item {position: relative;z-index: 1;}#sk-container-id-5 div.sk-parallel {display: flex;align-items: stretch;justify-content: center;background-color: white;position: relative;}#sk-container-id-5 div.sk-item::before, #sk-container-id-5 div.sk-parallel-item::before {content: \"\";position: absolute;border-left: 1px solid gray;box-sizing: border-box;top: 0;bottom: 0;left: 50%;z-index: -1;}#sk-container-id-5 div.sk-parallel-item {display: flex;flex-direction: column;z-index: 1;position: relative;background-color: white;}#sk-container-id-5 div.sk-parallel-item:first-child::after {align-self: flex-end;width: 50%;}#sk-container-id-5 div.sk-parallel-item:last-child::after {align-self: flex-start;width: 50%;}#sk-container-id-5 div.sk-parallel-item:only-child::after {width: 0;}#sk-container-id-5 div.sk-dashed-wrapped {border: 1px dashed gray;margin: 0 0.4em 0.5em 0.4em;box-sizing: border-box;padding-bottom: 0.4em;background-color: white;}#sk-container-id-5 div.sk-label label {font-family: monospace;font-weight: bold;display: inline-block;line-height: 1.2em;}#sk-container-id-5 div.sk-label-container {text-align: center;}#sk-container-id-5 div.sk-container {/* jupyter's `normalize.less` sets `[hidden] { display: none; }` but bootstrap.min.css set `[hidden] { display: none !important; }` so we also need the `!important` here to be able to override the default hidden behavior on the sphinx rendered scikit-learn.org. See: https://github.com/scikit-learn/scikit-learn/issues/21755 */display: inline-block !important;position: relative;}#sk-container-id-5 div.sk-text-repr-fallback {display: none;}</style><div id=\"sk-container-id-5\" class=\"sk-top-container\"><div class=\"sk-text-repr-fallback\"><pre>LogisticRegression(class_weight=&#x27;balanced&#x27;, max_iter=1000, random_state=42)</pre><b>In a Jupyter environment, please rerun this cell to show the HTML representation or trust the notebook. <br />On GitHub, the HTML representation is unable to render, please try loading this page with nbviewer.org.</b></div><div class=\"sk-container\" hidden><div class=\"sk-item\"><div class=\"sk-estimator sk-toggleable\"><input class=\"sk-toggleable__control sk-hidden--visually\" id=\"sk-estimator-id-12\" type=\"checkbox\" checked><label for=\"sk-estimator-id-12\" class=\"sk-toggleable__label sk-toggleable__label-arrow\">LogisticRegression</label><div class=\"sk-toggleable__content\"><pre>LogisticRegression(class_weight=&#x27;balanced&#x27;, max_iter=1000, random_state=42)</pre></div></div></div></div></div>"
      ],
      "text/plain": [
       "LogisticRegression(class_weight='balanced', max_iter=1000, random_state=42)"
      ]
     },
     "execution_count": 287,
     "metadata": {},
     "output_type": "execute_result"
    }
   ],
   "source": [
    "# Standardize the features\n",
    "scaler = StandardScaler()\n",
    "X_train_scaled = scaler.fit_transform(X_train)\n",
    "X_test_scaled = scaler.transform(X_test)\n",
    "\n",
    "# Training the model\n",
    "log_reg.fit(X_train_scaled, y_train)"
   ]
  },
  {
   "cell_type": "markdown",
   "id": "33dc2fcc-ffde-49c2-8795-6e8134087d5f",
   "metadata": {},
   "source": [
    "#### Making predictions"
   ]
  },
  {
   "cell_type": "code",
   "execution_count": 289,
   "id": "f6a8c087-9793-48f9-990b-da95c3855de1",
   "metadata": {},
   "outputs": [
    {
     "data": {
      "text/plain": [
       "array(['Other', 'Other', 'Human Trafficking', 'Other',\n",
       "       'Human Trafficking', 'Other', 'Forced Labor', 'Human Trafficking',\n",
       "       'Other', 'Other', 'Other', 'Forced Labor', 'Other',\n",
       "       'Human Trafficking', 'Human Trafficking', 'Human Trafficking',\n",
       "       'Human Trafficking', 'Other', 'Human Trafficking', 'Forced Labor',\n",
       "       'Other', 'Human Trafficking', 'Other', 'Forced Labor', 'Other',\n",
       "       'Other', 'Human Trafficking', 'Human Trafficking',\n",
       "       'Human Trafficking', 'Human Trafficking', 'Forced Labor', 'Other',\n",
       "       'Human Trafficking', 'Other', 'Forced Labor', 'Human Trafficking',\n",
       "       'Forced Labor', 'Other', 'Human Trafficking', 'Forced Labor',\n",
       "       'Child Exploitation', 'Forced Labor', 'Forced Labor',\n",
       "       'Human Trafficking', 'Forced Labor', 'Other', 'Forced Labor',\n",
       "       'Human Trafficking', 'Human Trafficking', 'Forced Labor', 'Other',\n",
       "       'Child Exploitation', 'Human Trafficking', 'Human Trafficking'],\n",
       "      dtype=object)"
      ]
     },
     "execution_count": 289,
     "metadata": {},
     "output_type": "execute_result"
    }
   ],
   "source": [
    "# Make predictions\n",
    "y_pred_log_reg = log_reg.predict(X_test_scaled)\n",
    "y_pred_log_reg"
   ]
  },
  {
   "cell_type": "markdown",
   "id": "75999db7-3eaa-4258-b591-dca3f83a9e65",
   "metadata": {},
   "source": [
    "#### Evaluating the model"
   ]
  },
  {
   "cell_type": "code",
   "execution_count": 291,
   "id": "8650170d-7ee3-4cff-b7d6-82a7bdd1f6b4",
   "metadata": {},
   "outputs": [
    {
     "name": "stdout",
     "output_type": "stream",
     "text": [
      "Logistic Regression Accuracy: 0.8333333333333334\n",
      "                    precision    recall  f1-score   support\n",
      "\n",
      "Child Exploitation       0.50      1.00      0.67         1\n",
      "      Forced Labor       0.69      0.90      0.78        10\n",
      " Human Trafficking       0.81      0.81      0.81        21\n",
      "             Other       1.00      0.82      0.90        22\n",
      "\n",
      "          accuracy                           0.83        54\n",
      "         macro avg       0.75      0.88      0.79        54\n",
      "      weighted avg       0.86      0.83      0.84        54\n",
      "\n",
      "[[ 1  0  0  0]\n",
      " [ 1  9  0  0]\n",
      " [ 0  4 17  0]\n",
      " [ 0  0  4 18]]\n"
     ]
    }
   ],
   "source": [
    "# Evaluating the model\n",
    "print(\"Logistic Regression Accuracy:\", accuracy_score(y_test, y_pred_log_reg))\n",
    "print(classification_report(y_test, y_pred_log_reg, zero_division=0))\n",
    "print(confusion_matrix(y_test, y_pred_log_reg))"
   ]
  },
  {
   "cell_type": "markdown",
   "id": "dbe51347-e848-480d-978d-cc22865e3eab",
   "metadata": {},
   "source": [
    "### Observations"
   ]
  },
  {
   "cell_type": "markdown",
   "id": "b2f445e7-483c-4f0c-b189-ae8ad653e1cc",
   "metadata": {},
   "source": [
    "#### Analyzing the metrics"
   ]
  },
  {
   "cell_type": "markdown",
   "id": "36125525-6453-4d08-9f92-7c70aa8b3ca9",
   "metadata": {},
   "source": [
    "1. Accuracy:\n",
    "   0.833: The model correctly predicted about 83.3% of the cases overall.\n",
    "\n",
    "2. Precision:\n",
    "   - Child Exploitation: 0.50: Half of the predictions made for this class were correct.\n",
    "   - Forced Labor: 0.69: 69% of the predictions for this class were correct.\n",
    "   - Human Trafficking: 0.81: 81% of the predictions for this class were correct.\n",
    "   - Other: 1.00: All predictions made for this class were correct, indicating no false positives.\n",
    "\n",
    "3. Recall:\n",
    "   - Child Exploitation: 1.00: The model correctly identified the only instance of this class.\n",
    "   - Forced Labor: 0.90: The model correctly identified 90% of the actual cases for this class.\n",
    "   - Human Trafficking: 0.81: The model correctly identified 81% of the actual cases for this class.\n",
    "   - Other: 0.82: The model correctly identified 82% of the actual cases for this class.\n",
    "\n",
    "4. F1-Score:\n",
    "   - Child Exploitation: 0.67: Despite perfect recall, the low precision led to a moderate F1 score.\n",
    "   - Forced Labor: 0.78: The F1 score reflects a balance between precision and recall.\n",
    "   - Human Trafficking: 0.81: The model performed consistently well in this class.\n",
    "   - Other: 0.90: High precision and decent recall contributed to a strong F1 score.\n",
    "\n",
    "5. Averages:\n",
    "   - Macro Average:\n",
    "     - Precision: 0.75: On average, the model's precision across all classes was moderate.\n",
    "     - Recall: 0.88: On average, the model was quite good at identifying actual instances across all classes.\n",
    "     - F1-Score: 0.79: Reflects the overall balance between precision and recall.                                                                        \n",
    "\n",
    "6. Weighted Average:\n",
    "   - Precision: 0.86: Weighted by support, the precision was quite high.\n",
    "   - Recall: 0.83: The model was generally accurate across all classes, considering their distribution.\n",
    "   - F1-Score: 0.84: Indicates overall model performance, balancing precision and recall.\n",
    "\n",
    "7. Confusion Matrix:\n",
    "   - Child Exploitation: 1 instance was correctly classified, with no misclassifications.\n",
    "   - Forced Labor: 9 instances were correctly classified, with 1 misclassification.\n",
    "   - Human Trafficking: 17 instances were correctly classified, with 4 misclassifications.\n",
    "   - Other: 18 instances were correctly classified, with 4 misclassifications.\n",
    "\n"
   ]
  },
  {
   "cell_type": "markdown",
   "id": "2138aba3-397e-45af-98c7-7808c7bab1f6",
   "metadata": {},
   "source": [
    "#### Summary"
   ]
  },
  {
   "cell_type": "markdown",
   "id": "25b8cd4c-ddeb-4dbf-aa28-04eda8d0a9c0",
   "metadata": {},
   "source": [
    "The model performs well in general but has some challenges with the \"Child Exploitation\" class due to the small number of samples. The high precision for the \"Other\" class is particularly notable, while \"Forced Labor\" and \"Human Trafficking\" show a good balance of precision and recall. The overall accuracy of 83.3% indicates that the model is relatively reliable."
   ]
  },
  {
   "cell_type": "markdown",
   "id": "ecc8c132-7f90-437e-8350-b7127c744684",
   "metadata": {},
   "source": [
    "#### A plot of Logistic regressin Confusion matrix"
   ]
  },
  {
   "cell_type": "code",
   "execution_count": 298,
   "id": "cba7264a-cf83-4fb2-b873-adc5e7edea9a",
   "metadata": {},
   "outputs": [
    {
     "data": {
      "image/png": "[encoded data removed]",
      "text/plain": [
       "<Figure size 640x480 with 2 Axes>"
      ]
     },
     "metadata": {},
     "output_type": "display_data"
    }
   ],
   "source": [
    "from sklearn.metrics import ConfusionMatrixDisplay\n",
    "\n",
    "# Compute confusion matrix\n",
    "cm = confusion_matrix(y_test, y_pred_log_reg, labels=log_reg.classes_)\n",
    "\n",
    "# Plot confusion matrix with rotated labels\n",
    "disp = ConfusionMatrixDisplay(confusion_matrix=cm, display_labels=log_reg.classes_)\n",
    "disp.plot(cmap='Blues', values_format='d', ax=plt.gca())\n",
    "\n",
    "#the x-axis labels (Predicted labels)\n",
    "plt.xticks(rotation=45, ha='right', fontsize=10)\n",
    "\n",
    "#the y-axis labels (True labels)\n",
    "plt.yticks(rotation=45, ha='right', fontsize=10)\n",
    "\n",
    "plt.title('Confusion Matrix')\n",
    "plt.show()"
   ]
  },
  {
   "cell_type": "markdown",
   "id": "223533c4-3399-445e-8dbf-cea52a56cfaa",
   "metadata": {},
   "source": [
    "Confusion Matrix:\n",
    "\n",
    "  -Child Exploitation: 1 instance was correctly classified, with no misclassifications.\n",
    "  \n",
    "  -Forced Labor: 9 instances were correctly classified, with 1 misclassification.\n",
    "  \n",
    "  -Human Trafficking: 17 instances were correctly classified, with 4 misclassifications.\n",
    "  \n",
    "  -Other: 18 instances were correctly classified, with 4 misclassifications."
   ]
  },
  {
   "cell_type": "markdown",
   "id": "4756d408-a66f-46bb-b45b-81346a603365",
   "metadata": {},
   "source": [
    "### Plotting ROC Curve for Logistic regression"
   ]
  },
  {
   "cell_type": "code",
   "execution_count": 301,
   "id": "0a22d72e-6cc6-4015-805f-0aa4e1900add",
   "metadata": {},
   "outputs": [
    {
     "data": {
      "image/png": "[encoded data removed]",
      "text/plain": [
       "<Figure size 800x600 with 1 Axes>"
      ]
     },
     "metadata": {},
     "output_type": "display_data"
    }
   ],
   "source": [
    "from sklearn.metrics import roc_curve, auc\n",
    "\n",
    "# Predict probabilities\n",
    "y_prob = log_reg.predict_proba(X_test_scaled)[:, 1]  \n",
    "\n",
    "# Compute ROC curve\n",
    "fpr, tpr, _ = roc_curve(y_test, y_prob, pos_label=log_reg.classes_[1])\n",
    "roc_auc = auc(fpr, tpr)\n",
    "\n",
    "# Plot ROC curve\n",
    "plt.figure(figsize=(8, 6))\n",
    "plt.plot(fpr, tpr, color='darkorange', lw=2, label='ROC curve (area = %0.2f)' % roc_auc)\n",
    "plt.plot([0, 1], [0, 1], color='navy', lw=2, linestyle='--')\n",
    "plt.xlim([0.0, 1.0])\n",
    "plt.ylim([0.0, 1.05])\n",
    "plt.xlabel('False Positive Rate')\n",
    "plt.ylabel('True Positive Rate')\n",
    "plt.title('Receiver Operating Characteristic Curve')\n",
    "plt.legend(loc='lower right')\n",
    "plt.show()"
   ]
  },
  {
   "cell_type": "markdown",
   "id": "9412897e-9021-4936-8a68-f1d55d326b29",
   "metadata": {},
   "source": [
    "From the Rock Curve , you can see the orange line is way above the diagonal line at a positive rate of 1.0, which suggests that logistic regression model is effectively distinguishing between the positive and negative classes."
   ]
  },
  {
   "cell_type": "markdown",
   "id": "ee242cf5-f1f1-4e35-82a6-868e96780731",
   "metadata": {},
   "source": [
    "## Decision Trees"
   ]
  },
  {
   "cell_type": "markdown",
   "id": "a78300e2-223a-45ed-9f53-fabda715e498",
   "metadata": {},
   "source": [
    "#### Identifying the 'Target variable' and 'features'"
   ]
  },
  {
   "cell_type": "code",
   "execution_count": 305,
   "id": "2d45facd-4277-4b9b-8644-d7758327940a",
   "metadata": {},
   "outputs": [],
   "source": [
    "# Assuming gsi_data is your DataFrame and 'Slavery_Type' is your target variable\n",
    "X = gsi_data.drop('Slavery_Type', axis=1)\n",
    "y = gsi_data['Slavery_Type']\n",
    "\n",
    "# Split the data into training and testing sets\n",
    "X_train, X_test, y_train, y_test = train_test_split(X, y, test_size=0.3, random_state=42)"
   ]
  },
  {
   "cell_type": "markdown",
   "id": "a52bf611-1a37-4d0e-ae3b-ee32b9357fda",
   "metadata": {},
   "source": [
    "#### instantiating  the model"
   ]
  },
  {
   "cell_type": "code",
   "execution_count": 307,
   "id": "c028b842-00db-4cae-87f1-30c8f0b1cb69",
   "metadata": {},
   "outputs": [
    {
     "data": {
      "text/html": [
       "<style>#sk-container-id-6 {color: black;background-color: white;}#sk-container-id-6 pre{padding: 0;}#sk-container-id-6 div.sk-toggleable {background-color: white;}#sk-container-id-6 label.sk-toggleable__label {cursor: pointer;display: block;width: 100%;margin-bottom: 0;padding: 0.3em;box-sizing: border-box;text-align: center;}#sk-container-id-6 label.sk-toggleable__label-arrow:before {content: \"▸\";float: left;margin-right: 0.25em;color: #696969;}#sk-container-id-6 label.sk-toggleable__label-arrow:hover:before {color: black;}#sk-container-id-6 div.sk-estimator:hover label.sk-toggleable__label-arrow:before {color: black;}#sk-container-id-6 div.sk-toggleable__content {max-height: 0;max-width: 0;overflow: hidden;text-align: left;background-color: #f0f8ff;}#sk-container-id-6 div.sk-toggleable__content pre {margin: 0.2em;color: black;border-radius: 0.25em;background-color: #f0f8ff;}#sk-container-id-6 input.sk-toggleable__control:checked~div.sk-toggleable__content {max-height: 200px;max-width: 100%;overflow: auto;}#sk-container-id-6 input.sk-toggleable__control:checked~label.sk-toggleable__label-arrow:before {content: \"▾\";}#sk-container-id-6 div.sk-estimator input.sk-toggleable__control:checked~label.sk-toggleable__label {background-color: #d4ebff;}#sk-container-id-6 div.sk-label input.sk-toggleable__control:checked~label.sk-toggleable__label {background-color: #d4ebff;}#sk-container-id-6 input.sk-hidden--visually {border: 0;clip: rect(1px 1px 1px 1px);clip: rect(1px, 1px, 1px, 1px);height: 1px;margin: -1px;overflow: hidden;padding: 0;position: absolute;width: 1px;}#sk-container-id-6 div.sk-estimator {font-family: monospace;background-color: #f0f8ff;border: 1px dotted black;border-radius: 0.25em;box-sizing: border-box;margin-bottom: 0.5em;}#sk-container-id-6 div.sk-estimator:hover {background-color: #d4ebff;}#sk-container-id-6 div.sk-parallel-item::after {content: \"\";width: 100%;border-bottom: 1px solid gray;flex-grow: 1;}#sk-container-id-6 div.sk-label:hover label.sk-toggleable__label {background-color: #d4ebff;}#sk-container-id-6 div.sk-serial::before {content: \"\";position: absolute;border-left: 1px solid gray;box-sizing: border-box;top: 0;bottom: 0;left: 50%;z-index: 0;}#sk-container-id-6 div.sk-serial {display: flex;flex-direction: column;align-items: center;background-color: white;padding-right: 0.2em;padding-left: 0.2em;position: relative;}#sk-container-id-6 div.sk-item {position: relative;z-index: 1;}#sk-container-id-6 div.sk-parallel {display: flex;align-items: stretch;justify-content: center;background-color: white;position: relative;}#sk-container-id-6 div.sk-item::before, #sk-container-id-6 div.sk-parallel-item::before {content: \"\";position: absolute;border-left: 1px solid gray;box-sizing: border-box;top: 0;bottom: 0;left: 50%;z-index: -1;}#sk-container-id-6 div.sk-parallel-item {display: flex;flex-direction: column;z-index: 1;position: relative;background-color: white;}#sk-container-id-6 div.sk-parallel-item:first-child::after {align-self: flex-end;width: 50%;}#sk-container-id-6 div.sk-parallel-item:last-child::after {align-self: flex-start;width: 50%;}#sk-container-id-6 div.sk-parallel-item:only-child::after {width: 0;}#sk-container-id-6 div.sk-dashed-wrapped {border: 1px dashed gray;margin: 0 0.4em 0.5em 0.4em;box-sizing: border-box;padding-bottom: 0.4em;background-color: white;}#sk-container-id-6 div.sk-label label {font-family: monospace;font-weight: bold;display: inline-block;line-height: 1.2em;}#sk-container-id-6 div.sk-label-container {text-align: center;}#sk-container-id-6 div.sk-container {/* jupyter's `normalize.less` sets `[hidden] { display: none; }` but bootstrap.min.css set `[hidden] { display: none !important; }` so we also need the `!important` here to be able to override the default hidden behavior on the sphinx rendered scikit-learn.org. See: https://github.com/scikit-learn/scikit-learn/issues/21755 */display: inline-block !important;position: relative;}#sk-container-id-6 div.sk-text-repr-fallback {display: none;}</style><div id=\"sk-container-id-6\" class=\"sk-top-container\"><div class=\"sk-text-repr-fallback\"><pre>DecisionTreeClassifier(random_state=42)</pre><b>In a Jupyter environment, please rerun this cell to show the HTML representation or trust the notebook. <br />On GitHub, the HTML representation is unable to render, please try loading this page with nbviewer.org.</b></div><div class=\"sk-container\" hidden><div class=\"sk-item\"><div class=\"sk-estimator sk-toggleable\"><input class=\"sk-toggleable__control sk-hidden--visually\" id=\"sk-estimator-id-13\" type=\"checkbox\" checked><label for=\"sk-estimator-id-13\" class=\"sk-toggleable__label sk-toggleable__label-arrow\">DecisionTreeClassifier</label><div class=\"sk-toggleable__content\"><pre>DecisionTreeClassifier(random_state=42)</pre></div></div></div></div></div>"
      ],
      "text/plain": [
       "DecisionTreeClassifier(random_state=42)"
      ]
     },
     "execution_count": 307,
     "metadata": {},
     "output_type": "execute_result"
    }
   ],
   "source": [
    "classifier = DecisionTreeClassifier(random_state=42)\n",
    "classifier"
   ]
  },
  {
   "cell_type": "markdown",
   "id": "e7b1f399-eb44-42aa-b553-641a418d00be",
   "metadata": {},
   "source": [
    "#### Encoding categorical variable 'Country' and 'Region'"
   ]
  },
  {
   "cell_type": "code",
   "execution_count": 309,
   "id": "2d1ad2fb-6ec1-4f88-a5ae-57fd0ea6ab37",
   "metadata": {},
   "outputs": [],
   "source": [
    "from sklearn.preprocessing import OneHotEncoder\n",
    "from sklearn.compose import ColumnTransformer\n",
    "from sklearn.pipeline import Pipeline\n",
    "from sklearn.tree import DecisionTreeClassifier\n",
    "from sklearn.impute import SimpleImputer\n",
    "from sklearn.model_selection import train_test_split\n",
    "from sklearn.metrics import classification_report, accuracy_score\n",
    "\n",
    "# Define categorical columns\n",
    "categorical_features = ['Country', 'Region']\n",
    "\n",
    "# Define a preprocessor to handle categorical data\n",
    "preprocessor = ColumnTransformer(\n",
    "    transformers=[\n",
    "        ('cat', Pipeline(steps=[\n",
    "            ('imputer', SimpleImputer(strategy='most_frequent')),\n",
    "            ('encoder', OneHotEncoder(handle_unknown='ignore', sparse_output=False))\n",
    "        ]), categorical_features)\n",
    "    ], remainder='passthrough')\n",
    "\n",
    "# Create a pipeline that includes both the preprocessor and the classifier\n",
    "clf = Pipeline(steps=[\n",
    "    ('preprocessor', preprocessor),\n",
    "    ('classifier', DecisionTreeClassifier(random_state=42))\n",
    "])\n",
    "\n"
   ]
  },
  {
   "cell_type": "code",
   "execution_count": 310,
   "id": "f45e7b28-c9a5-46ed-9f9e-23e2b23928da",
   "metadata": {},
   "outputs": [],
   "source": [
    "# Split your data\n",
    "X_train, X_test, y_train, y_test = train_test_split(X, y, test_size=0.2, random_state=42)"
   ]
  },
  {
   "cell_type": "markdown",
   "id": "5b802613-154d-4599-92d6-616f0e7cb3f0",
   "metadata": {},
   "source": [
    "#### Training the model"
   ]
  },
  {
   "cell_type": "code",
   "execution_count": 312,
   "id": "2d0357f5-32a5-43b3-80a1-b47ffcd2e629",
   "metadata": {},
   "outputs": [
    {
     "data": {
      "text/html": [
       "<style>#sk-container-id-7 {color: black;background-color: white;}#sk-container-id-7 pre{padding: 0;}#sk-container-id-7 div.sk-toggleable {background-color: white;}#sk-container-id-7 label.sk-toggleable__label {cursor: pointer;display: block;width: 100%;margin-bottom: 0;padding: 0.3em;box-sizing: border-box;text-align: center;}#sk-container-id-7 label.sk-toggleable__label-arrow:before {content: \"▸\";float: left;margin-right: 0.25em;color: #696969;}#sk-container-id-7 label.sk-toggleable__label-arrow:hover:before {color: black;}#sk-container-id-7 div.sk-estimator:hover label.sk-toggleable__label-arrow:before {color: black;}#sk-container-id-7 div.sk-toggleable__content {max-height: 0;max-width: 0;overflow: hidden;text-align: left;background-color: #f0f8ff;}#sk-container-id-7 div.sk-toggleable__content pre {margin: 0.2em;color: black;border-radius: 0.25em;background-color: #f0f8ff;}#sk-container-id-7 input.sk-toggleable__control:checked~div.sk-toggleable__content {max-height: 200px;max-width: 100%;overflow: auto;}#sk-container-id-7 input.sk-toggleable__control:checked~label.sk-toggleable__label-arrow:before {content: \"▾\";}#sk-container-id-7 div.sk-estimator input.sk-toggleable__control:checked~label.sk-toggleable__label {background-color: #d4ebff;}#sk-container-id-7 div.sk-label input.sk-toggleable__control:checked~label.sk-toggleable__label {background-color: #d4ebff;}#sk-container-id-7 input.sk-hidden--visually {border: 0;clip: rect(1px 1px 1px 1px);clip: rect(1px, 1px, 1px, 1px);height: 1px;margin: -1px;overflow: hidden;padding: 0;position: absolute;width: 1px;}#sk-container-id-7 div.sk-estimator {font-family: monospace;background-color: #f0f8ff;border: 1px dotted black;border-radius: 0.25em;box-sizing: border-box;margin-bottom: 0.5em;}#sk-container-id-7 div.sk-estimator:hover {background-color: #d4ebff;}#sk-container-id-7 div.sk-parallel-item::after {content: \"\";width: 100%;border-bottom: 1px solid gray;flex-grow: 1;}#sk-container-id-7 div.sk-label:hover label.sk-toggleable__label {background-color: #d4ebff;}#sk-container-id-7 div.sk-serial::before {content: \"\";position: absolute;border-left: 1px solid gray;box-sizing: border-box;top: 0;bottom: 0;left: 50%;z-index: 0;}#sk-container-id-7 div.sk-serial {display: flex;flex-direction: column;align-items: center;background-color: white;padding-right: 0.2em;padding-left: 0.2em;position: relative;}#sk-container-id-7 div.sk-item {position: relative;z-index: 1;}#sk-container-id-7 div.sk-parallel {display: flex;align-items: stretch;justify-content: center;background-color: white;position: relative;}#sk-container-id-7 div.sk-item::before, #sk-container-id-7 div.sk-parallel-item::before {content: \"\";position: absolute;border-left: 1px solid gray;box-sizing: border-box;top: 0;bottom: 0;left: 50%;z-index: -1;}#sk-container-id-7 div.sk-parallel-item {display: flex;flex-direction: column;z-index: 1;position: relative;background-color: white;}#sk-container-id-7 div.sk-parallel-item:first-child::after {align-self: flex-end;width: 50%;}#sk-container-id-7 div.sk-parallel-item:last-child::after {align-self: flex-start;width: 50%;}#sk-container-id-7 div.sk-parallel-item:only-child::after {width: 0;}#sk-container-id-7 div.sk-dashed-wrapped {border: 1px dashed gray;margin: 0 0.4em 0.5em 0.4em;box-sizing: border-box;padding-bottom: 0.4em;background-color: white;}#sk-container-id-7 div.sk-label label {font-family: monospace;font-weight: bold;display: inline-block;line-height: 1.2em;}#sk-container-id-7 div.sk-label-container {text-align: center;}#sk-container-id-7 div.sk-container {/* jupyter's `normalize.less` sets `[hidden] { display: none; }` but bootstrap.min.css set `[hidden] { display: none !important; }` so we also need the `!important` here to be able to override the default hidden behavior on the sphinx rendered scikit-learn.org. See: https://github.com/scikit-learn/scikit-learn/issues/21755 */display: inline-block !important;position: relative;}#sk-container-id-7 div.sk-text-repr-fallback {display: none;}</style><div id=\"sk-container-id-7\" class=\"sk-top-container\"><div class=\"sk-text-repr-fallback\"><pre>Pipeline(steps=[(&#x27;preprocessor&#x27;,\n",
       "                 ColumnTransformer(remainder=&#x27;passthrough&#x27;,\n",
       "                                   transformers=[(&#x27;cat&#x27;,\n",
       "                                                  Pipeline(steps=[(&#x27;imputer&#x27;,\n",
       "                                                                   SimpleImputer(strategy=&#x27;most_frequent&#x27;)),\n",
       "                                                                  (&#x27;encoder&#x27;,\n",
       "                                                                   OneHotEncoder(handle_unknown=&#x27;ignore&#x27;,\n",
       "                                                                                 sparse_output=False))]),\n",
       "                                                  [&#x27;Country&#x27;, &#x27;Region&#x27;])])),\n",
       "                (&#x27;classifier&#x27;, DecisionTreeClassifier(random_state=42))])</pre><b>In a Jupyter environment, please rerun this cell to show the HTML representation or trust the notebook. <br />On GitHub, the HTML representation is unable to render, please try loading this page with nbviewer.org.</b></div><div class=\"sk-container\" hidden><div class=\"sk-item sk-dashed-wrapped\"><div class=\"sk-label-container\"><div class=\"sk-label sk-toggleable\"><input class=\"sk-toggleable__control sk-hidden--visually\" id=\"sk-estimator-id-14\" type=\"checkbox\" ><label for=\"sk-estimator-id-14\" class=\"sk-toggleable__label sk-toggleable__label-arrow\">Pipeline</label><div class=\"sk-toggleable__content\"><pre>Pipeline(steps=[(&#x27;preprocessor&#x27;,\n",
       "                 ColumnTransformer(remainder=&#x27;passthrough&#x27;,\n",
       "                                   transformers=[(&#x27;cat&#x27;,\n",
       "                                                  Pipeline(steps=[(&#x27;imputer&#x27;,\n",
       "                                                                   SimpleImputer(strategy=&#x27;most_frequent&#x27;)),\n",
       "                                                                  (&#x27;encoder&#x27;,\n",
       "                                                                   OneHotEncoder(handle_unknown=&#x27;ignore&#x27;,\n",
       "                                                                                 sparse_output=False))]),\n",
       "                                                  [&#x27;Country&#x27;, &#x27;Region&#x27;])])),\n",
       "                (&#x27;classifier&#x27;, DecisionTreeClassifier(random_state=42))])</pre></div></div></div><div class=\"sk-serial\"><div class=\"sk-item sk-dashed-wrapped\"><div class=\"sk-label-container\"><div class=\"sk-label sk-toggleable\"><input class=\"sk-toggleable__control sk-hidden--visually\" id=\"sk-estimator-id-15\" type=\"checkbox\" ><label for=\"sk-estimator-id-15\" class=\"sk-toggleable__label sk-toggleable__label-arrow\">preprocessor: ColumnTransformer</label><div class=\"sk-toggleable__content\"><pre>ColumnTransformer(remainder=&#x27;passthrough&#x27;,\n",
       "                  transformers=[(&#x27;cat&#x27;,\n",
       "                                 Pipeline(steps=[(&#x27;imputer&#x27;,\n",
       "                                                  SimpleImputer(strategy=&#x27;most_frequent&#x27;)),\n",
       "                                                 (&#x27;encoder&#x27;,\n",
       "                                                  OneHotEncoder(handle_unknown=&#x27;ignore&#x27;,\n",
       "                                                                sparse_output=False))]),\n",
       "                                 [&#x27;Country&#x27;, &#x27;Region&#x27;])])</pre></div></div></div><div class=\"sk-parallel\"><div class=\"sk-parallel-item\"><div class=\"sk-item\"><div class=\"sk-label-container\"><div class=\"sk-label sk-toggleable\"><input class=\"sk-toggleable__control sk-hidden--visually\" id=\"sk-estimator-id-16\" type=\"checkbox\" ><label for=\"sk-estimator-id-16\" class=\"sk-toggleable__label sk-toggleable__label-arrow\">cat</label><div class=\"sk-toggleable__content\"><pre>[&#x27;Country&#x27;, &#x27;Region&#x27;]</pre></div></div></div><div class=\"sk-serial\"><div class=\"sk-item\"><div class=\"sk-serial\"><div class=\"sk-item\"><div class=\"sk-estimator sk-toggleable\"><input class=\"sk-toggleable__control sk-hidden--visually\" id=\"sk-estimator-id-17\" type=\"checkbox\" ><label for=\"sk-estimator-id-17\" class=\"sk-toggleable__label sk-toggleable__label-arrow\">SimpleImputer</label><div class=\"sk-toggleable__content\"><pre>SimpleImputer(strategy=&#x27;most_frequent&#x27;)</pre></div></div></div><div class=\"sk-item\"><div class=\"sk-estimator sk-toggleable\"><input class=\"sk-toggleable__control sk-hidden--visually\" id=\"sk-estimator-id-18\" type=\"checkbox\" ><label for=\"sk-estimator-id-18\" class=\"sk-toggleable__label sk-toggleable__label-arrow\">OneHotEncoder</label><div class=\"sk-toggleable__content\"><pre>OneHotEncoder(handle_unknown=&#x27;ignore&#x27;, sparse_output=False)</pre></div></div></div></div></div></div></div></div><div class=\"sk-parallel-item\"><div class=\"sk-item\"><div class=\"sk-label-container\"><div class=\"sk-label sk-toggleable\"><input class=\"sk-toggleable__control sk-hidden--visually\" id=\"sk-estimator-id-19\" type=\"checkbox\" ><label for=\"sk-estimator-id-19\" class=\"sk-toggleable__label sk-toggleable__label-arrow\">remainder</label><div class=\"sk-toggleable__content\"><pre>[&#x27;Population&#x27;, &#x27;Estimated prevalence of modern slavery per 1,000 population&#x27;, &#x27;Estimated number of people in modern slavery&#x27;, &#x27;Governance issues&#x27;, &#x27;Lack of basic needs&#x27;, &#x27;Inequality&#x27;, &#x27;Disenfranchised groups&#x27;, &#x27;Effects of conflict&#x27;, &#x27;Total Vulnerability score (%)&#x27;, &#x27;Survivors of slavery are identified and supported to exit and remain out of modern slavery (%)&#x27;, &#x27;Criminal justice mechanisms function effectively to prevent modern slavery (%)&#x27;, &#x27;Coordination occurs at the national and regional level and across borders, and governments are held to account for their response (%)&#x27;, &#x27;Risk factors, such as attitudes, social systems, and institutions that enable modern slavery are addressed (%)&#x27;, &#x27;Government and business stop sourcing goods and services produced by forced labour (%)&#x27;, &#x27;Government response total (%)&#x27;, &#x27;log_Population&#x27;, &#x27;log_Estimated_modern_slavery&#x27;]</pre></div></div></div><div class=\"sk-serial\"><div class=\"sk-item\"><div class=\"sk-estimator sk-toggleable\"><input class=\"sk-toggleable__control sk-hidden--visually\" id=\"sk-estimator-id-20\" type=\"checkbox\" ><label for=\"sk-estimator-id-20\" class=\"sk-toggleable__label sk-toggleable__label-arrow\">passthrough</label><div class=\"sk-toggleable__content\"><pre>passthrough</pre></div></div></div></div></div></div></div></div><div class=\"sk-item\"><div class=\"sk-estimator sk-toggleable\"><input class=\"sk-toggleable__control sk-hidden--visually\" id=\"sk-estimator-id-21\" type=\"checkbox\" ><label for=\"sk-estimator-id-21\" class=\"sk-toggleable__label sk-toggleable__label-arrow\">DecisionTreeClassifier</label><div class=\"sk-toggleable__content\"><pre>DecisionTreeClassifier(random_state=42)</pre></div></div></div></div></div></div></div>"
      ],
      "text/plain": [
       "Pipeline(steps=[('preprocessor',\n",
       "                 ColumnTransformer(remainder='passthrough',\n",
       "                                   transformers=[('cat',\n",
       "                                                  Pipeline(steps=[('imputer',\n",
       "                                                                   SimpleImputer(strategy='most_frequent')),\n",
       "                                                                  ('encoder',\n",
       "                                                                   OneHotEncoder(handle_unknown='ignore',\n",
       "                                                                                 sparse_output=False))]),\n",
       "                                                  ['Country', 'Region'])])),\n",
       "                ('classifier', DecisionTreeClassifier(random_state=42))])"
      ]
     },
     "execution_count": 312,
     "metadata": {},
     "output_type": "execute_result"
    }
   ],
   "source": [
    "# Train the model\n",
    "clf.fit(X_train, y_train)"
   ]
  },
  {
   "cell_type": "markdown",
   "id": "a621f97e-a865-4306-a734-aa3e5497b9a0",
   "metadata": {},
   "source": [
    "### Making predictions"
   ]
  },
  {
   "cell_type": "code",
   "execution_count": 314,
   "id": "9bab49f1-6897-4cb9-9427-6903927d1c7c",
   "metadata": {},
   "outputs": [
    {
     "data": {
      "text/plain": [
       "array(['Other', 'Other', 'Human Trafficking', 'Other',\n",
       "       'Human Trafficking', 'Other', 'Human Trafficking',\n",
       "       'Human Trafficking', 'Other', 'Other', 'Other', 'Forced Labor',\n",
       "       'Other', 'Human Trafficking', 'Other', 'Other', 'Forced Labor',\n",
       "       'Other', 'Forced Labor', 'Forced Labor', 'Other',\n",
       "       'Human Trafficking', 'Other', 'Forced Labor', 'Other', 'Other',\n",
       "       'Human Trafficking', 'Other', 'Human Trafficking',\n",
       "       'Human Trafficking', 'Forced Labor', 'Other', 'Human Trafficking',\n",
       "       'Other', 'Forced Labor', 'Human Trafficking'], dtype=object)"
      ]
     },
     "execution_count": 314,
     "metadata": {},
     "output_type": "execute_result"
    }
   ],
   "source": [
    "# Predict on the test data\n",
    "y_pred = clf.predict(X_test)\n",
    "y_pred"
   ]
  },
  {
   "cell_type": "markdown",
   "id": "f1d23034-a089-48e4-acec-9ad2787e47b5",
   "metadata": {},
   "source": [
    "#### Evaluating the model"
   ]
  },
  {
   "cell_type": "code",
   "execution_count": 316,
   "id": "09b3d8d3-355c-48d9-b318-883506086899",
   "metadata": {},
   "outputs": [
    {
     "name": "stdout",
     "output_type": "stream",
     "text": [
      "Decision Tree Accuracy: 0.8611111111111112\n",
      "                   precision    recall  f1-score   support\n",
      "\n",
      "     Forced Labor       0.29      1.00      0.44         2\n",
      "Human Trafficking       1.00      0.69      0.81        16\n",
      "            Other       1.00      1.00      1.00        18\n",
      "\n",
      "         accuracy                           0.86        36\n",
      "        macro avg       0.76      0.90      0.75        36\n",
      "     weighted avg       0.96      0.86      0.89        36\n",
      "\n",
      "[[ 2  0  0]\n",
      " [ 5 11  0]\n",
      " [ 0  0 18]]\n"
     ]
    }
   ],
   "source": [
    "# Evaluate the accuracy of the model\n",
    "accuracy = accuracy_score(y_test, y_pred)\n",
    "print(f\"Decision Tree Accuracy: {accuracy}\")\n",
    "\n",
    "# Generating a classification report\n",
    "print(classification_report(y_test, y_pred, zero_division=0))\n",
    "\n",
    "# Generating a confusion matrix\n",
    "print(confusion_matrix(y_test, y_pred))"
   ]
  },
  {
   "cell_type": "markdown",
   "id": "611b5c83-600b-4a3c-9d88-3f6c866ab6d9",
   "metadata": {},
   "source": [
    "### Observations on Classification metrics"
   ]
  },
  {
   "cell_type": "markdown",
   "id": "56f37fb1-4153-41a8-a9d0-9f0586be673a",
   "metadata": {},
   "source": [
    "1. Accuracy:\n",
    "   0.861: The model correctly predicted about 86.1% of the cases overall.\n",
    "\n",
    "2. Precision:\n",
    "   - Forced Labor: 0.29: Only 29% of the predictions for this class were correct, indicating a high rate of false positives.\n",
    "   - Human Trafficking: 1.00: All predictions made for this class were correct, meaning no false positives.\n",
    "   - Other: 1.00: All predictions made for this class were correct.\n",
    "\n",
    "3. Recall:\n",
    "   - Forced Labor: 1.00: The model correctly identified all actual instances of this class, despite the low precision.\n",
    "   - Human Trafficking: 0.69: The model correctly identified 69% of the actual cases for this class, missing 5 instances.\n",
    "   - Other: 1.00: The model correctly identified all actual instances of this class.\n",
    "\n",
    "4. F1-Score:\n",
    "   - Forced Labor: 0.44: The F1 score is low due to the disparity between precision and recall.\n",
    "   - Human Trafficking: 0.81: Indicates strong performance, but with room for improvement in recall.\n",
    "   - Other: 1.00: Perfect F1 score, reflecting perfect precision and recall.\n",
    "\n",
    "5. Averages:\n",
    "   - Macro Average:\n",
    "     - Precision: 0.76: Indicates moderate precision on average across all classes.\n",
    "     - Recall: 0.90: High recall across classes, suggesting the model is good at identifying actual cases.\n",
    "     - F1-Score: 0.75: Reflects the average balance between precision and recall.\n",
    "\n",
    "6. Weighted Average:\n",
    "   - Precision: 0.96: High precision when weighted by class support.\n",
    "   - Recall: 0.86: Overall, the model is good at identifying actual cases across all classes.\n",
    "   - F1-Score: 0.89: Indicates the model performs well overall, with a good balance between precision and recall.\n",
    "\n",
    "7. Confusion Matrix:\n",
    "   - Forced Labor: Both instances were correctly classified, but there were also cases of high false positives leading to the low precision.\n",
    "   - Human Trafficking: 11 out of 16 instances were correctly classified, with 5 misclassifications.\n",
    "   - Other: All 18 instances were correctly classified."
   ]
  },
  {
   "cell_type": "markdown",
   "id": "b181efab-a478-4159-8363-0284abb6c6e8",
   "metadata": {},
   "source": [
    "### Summary\n",
    "The model has a good overall accuracy of 86.1%, with particularly strong performance in the \"Other\" and \"Human Trafficking\" classes. However, the \"Forced Labor\" class shows a significant imbalance between precision and recall, indicating that while the model catches all instances, it also predicts too many false positives. The high weighted averages suggest that the model is well-calibrated across the more prevalent classes but may need refinement for less common ones."
   ]
  },
  {
   "cell_type": "code",
   "execution_count": 321,
   "id": "292fd6e0-d166-4929-8ee0-42fd55f45716",
   "metadata": {},
   "outputs": [
    {
     "data": {
      "image/png": "[encoded data removed]",
      "text/plain": [
       "<Figure size 640x480 with 2 Axes>"
      ]
     },
     "metadata": {},
     "output_type": "display_data"
    }
   ],
   "source": [
    "# Compute confusion matrix\n",
    "cm = confusion_matrix(y_test, y_pred, labels=clf.classes_)\n",
    "\n",
    "# Plot confusion matrix\n",
    "disp = ConfusionMatrixDisplay(confusion_matrix=cm, display_labels=clf.classes_)\n",
    "disp.plot(cmap='Blues', values_format='d', ax=plt.gca())\n",
    "\n",
    "# Ensure correct number of labels for axes\n",
    "plt.xticks(ticks=range(len(clf.classes_)), labels=clf.classes_, rotation=45, ha='right', fontsize=10)\n",
    "plt.yticks(ticks=range(len(clf.classes_)), labels=clf.classes_, rotation=45, ha='right', fontsize=10)\n",
    "\n",
    "plt.title('Confusion Matrix for Decision Tree')\n",
    "plt.show()"
   ]
  },
  {
   "cell_type": "markdown",
   "id": "e1caa17a-86ce-4163-9a57-e916d38b8a24",
   "metadata": {},
   "source": [
    "Confusion Matrix:\n",
    "\n",
    "Forced Labor: Both instances were correctly classified, but there were also cases of high false positives leading to the low precision.\n",
    "\n",
    "Human Trafficking: 11 out of 16 instances were correctly classified, with 5 misclassifications.\n",
    "\n",
    "Other: All 18 instances were correctly classified."
   ]
  },
  {
   "cell_type": "markdown",
   "id": "0298afee-9cca-42ee-bcb6-08ab33a0d6fc",
   "metadata": {},
   "source": [
    "#### Feature importance "
   ]
  },
  {
   "cell_type": "code",
   "execution_count": null,
   "id": "8b9ae63e-1436-429e-b9e1-065656bafc1b",
   "metadata": {},
   "outputs": [],
   "source": [
    "import numpy as np\n",
    "import pandas as pd\n",
    "\n",
    "# Access the fitted classifier from the pipeline\n",
    "classifier = clf.named_steps['classifier']\n",
    "\n",
    "# Get feature importances from the fitted model\n",
    "importances = classifier.feature_importances_\n",
    "\n",
    "# Get feature names after preprocessing\n",
    "# Use the feature names from OneHotEncoder\n",
    "feature_names = clf.named_steps['preprocessor'].transformers_[0][1].named_steps['encoder'].get_feature_names_out()\n",
    "# Add non-categorical features\n",
    "non_cat_features = X.drop(categorical_features, axis=1).columns\n",
    "all_feature_names = np.concatenate([feature_names, non_cat_features])\n",
    "\n",
    "# Create a DataFrame to view feature importances\n",
    "feature_importance_df = pd.DataFrame({\n",
    "    'Feature': all_feature_names,\n",
    "    'Importance': importances\n",
    "})\n",
    "\n",
    "# Sort the features by importance\n",
    "feature_importance_df = feature_importance_df.sort_values(by='Importance', ascending=False)\n",
    "\n",
    "# Display the top features\n",
    "print(feature_importance_df.head(10))  # Adjust the number to view more features"
   ]
  },
  {
   "cell_type": "markdown",
   "id": "b1e7808c-c3e2-4a0c-a7fc-34f0c9a58290",
   "metadata": {},
   "source": [
    "### Observations"
   ]
  },
  {
   "cell_type": "markdown",
   "id": "1e8c64f5-6dbf-4ce8-bb36-2278d4da57f9",
   "metadata": {},
   "source": [
    "\n",
    "1.Lack of Basic Needs (0.415848):\n",
    "\n",
    "-This feature is the most important for the model, contributing approximately 41.6% to the predictions. It suggests that the lack of basic need is       a major determinant in predicting the target variable, indicating its significant role in understanding modern slavery issues.\n",
    "\n",
    "2. Criminal Justice Mechanisms Function Effectively (0.395138):\n",
    "\n",
    "    -This feature is also highly important, contributing about 39.5% to the model’s predictions. It implies that how well the criminal justice mechanisms function is crucial for predicting modern slavery. Effective criminal justice mechanisms may correlate strongly with lower levels of modern slavery.\n",
    "\n",
    "3. Total Vulnerability Score (%) (0.075642):\n",
    "\n",
    "   -This feature has a relatively lower importance, contributing around 7.6%. It indicates that while the total vulnerability score is relevant, it is less critical compared to the first two features. It still plays a role in the model but is not as influential.\n",
    "\n",
    "Features related to specific countries like Mongolia, Togo, Serbis,Romania, Russia and Rwanda have minor or no impact on the model's predictions."
   ]
  },
  {
   "cell_type": "markdown",
   "id": "abb622a4-9f8a-4acd-bf95-b4f9e1166f35",
   "metadata": {},
   "source": [
    "### Plotting a Decision Tree"
   ]
  },
  {
   "cell_type": "code",
   "execution_count": null,
   "id": "28d38243-43d6-405c-a829-756c0e0067bf",
   "metadata": {},
   "outputs": [],
   "source": [
    "# Assuming you have your data loaded into gsi_data and prepared\n",
    "X = gsi_data.drop('Slavery_Type', axis=1)\n",
    "y = gsi_data['Slavery_Type']\n",
    "\n",
    "# Define categorical columns\n",
    "categorical_features = ['Country', 'Region']\n",
    "\n",
    "# Define preprocessor\n",
    "preprocessor = ColumnTransformer(\n",
    "    transformers=[\n",
    "        ('cat', Pipeline(steps=[\n",
    "            ('imputer', SimpleImputer(strategy='most_frequent')),\n",
    "            ('encoder', OneHotEncoder(handle_unknown='ignore', sparse_output=False))\n",
    "        ]), categorical_features)\n",
    "    ], remainder='passthrough')\n",
    "\n",
    "# Create a pipeline that includes both the preprocessor and the classifier\n",
    "clf = Pipeline(steps=[\n",
    "    ('preprocessor', preprocessor),\n",
    "    ('classifier', DecisionTreeClassifier(random_state=42))\n",
    "])\n",
    "\n",
    "# Split your data\n",
    "X_train, X_test, y_train, y_test = train_test_split(X, y, test_size=0.2, random_state=42)\n",
    "\n",
    "# Train the model\n",
    "clf.fit(X_train, y_train)\n",
    "\n",
    "# Plot the tree\n",
    "plt.figure(figsize=(20, 10)) \n",
    "plot_tree(\n",
    "    clf.named_steps['classifier'],\n",
    "    feature_names=clf.named_steps['preprocessor'].get_feature_names_out(),\n",
    "    class_names=clf.named_steps['classifier'].classes_,\n",
    "    filled=True,\n",
    "    fontsize=10  # Increase font size\n",
    ")\n",
    "\n",
    "# Rotate labels\n",
    "plt.xticks(rotation=100)\n",
    "\n",
    "plt.title('Decision Tree Visualization')\n",
    "plt.show()"
   ]
  },
  {
   "cell_type": "markdown",
   "id": "b5f856f2-d2b6-45aa-896c-399c30187c52",
   "metadata": {},
   "source": [
    "### Applying Hyperparameter Tuning to Decision Tree"
   ]
  },
  {
   "cell_type": "code",
   "execution_count": null,
   "id": "438bd844-219a-47bf-9f46-7d8bfb332254",
   "metadata": {},
   "outputs": [],
   "source": [
    "from sklearn.model_selection import GridSearchCV\n",
    "from sklearn.pipeline import Pipeline\n",
    "from sklearn.compose import ColumnTransformer\n",
    "from sklearn.impute import SimpleImputer\n",
    "\n",
    "# Assuming gsi_data is your DataFrame and 'Slavery_Type' is your target variable\n",
    "X = gsi_data.drop('Slavery_Type', axis=1)\n",
    "y = gsi_data['Slavery_Type']\n",
    "\n",
    "# Define categorical columns\n",
    "categorical_features = ['Country', 'Region']\n",
    "\n",
    "# Define a preprocessor to handle categorical data\n",
    "preprocessor = ColumnTransformer(\n",
    "    transformers=[\n",
    "        ('cat', Pipeline(steps=[\n",
    "            ('imputer', SimpleImputer(strategy='most_frequent')),\n",
    "            ('encoder', OneHotEncoder(handle_unknown='ignore', sparse_output=False))\n",
    "        ]), categorical_features)\n",
    "    ], remainder='passthrough')\n",
    "\n",
    "# Create a pipeline that includes both the preprocessor and the classifier\n",
    "pipeline = Pipeline(steps=[\n",
    "    ('preprocessor', preprocessor),\n",
    "    ('classifier', DecisionTreeClassifier(random_state=42))\n",
    "])\n",
    "\n",
    "# Define the hyperparameters to search\n",
    "param_grid = {\n",
    "    'classifier__max_depth': [3, 5, 10, None],\n",
    "    'classifier__min_samples_split': [2, 5, 10],\n",
    "    'classifier__min_samples_leaf': [1, 2, 4],\n",
    "    'classifier__criterion': ['gini', 'entropy']\n",
    "}\n",
    "\n",
    "# Initialize GridSearchCV\n",
    "grid_search = GridSearchCV(pipeline, param_grid, cv=5, scoring='accuracy')\n",
    "\n",
    "# Split your data\n",
    "X_train, X_test, y_train, y_test = train_test_split(X, y, test_size=0.2, random_state=42)\n",
    "\n",
    "# Train the model with hyperparameter tuning\n",
    "grid_search.fit(X_train, y_train)\n",
    "\n"
   ]
  },
  {
   "cell_type": "code",
   "execution_count": null,
   "id": "f2137ce5-02d9-47d4-8eab-f1063c65527e",
   "metadata": {},
   "outputs": [],
   "source": [
    "# Get the best parameters\n",
    "best_params = grid_search.best_params_\n",
    "print(f\"Best Parameters: {best_params}\")\n"
   ]
  },
  {
   "cell_type": "code",
   "execution_count": null,
   "id": "7a4bfdd9-4499-4f6f-b6a2-363ee654cbed",
   "metadata": {},
   "outputs": [],
   "source": [
    "# Predict on the test data using the best model\n",
    "y_pred = grid_search.best_estimator_.predict(X_test)\n",
    "\n",
    "# Evaluate the accuracy of the model\n",
    "accuracy = accuracy_score(y_test, y_pred)\n",
    "print(f\"Decision Tree Accuracy after Tuning: {accuracy}\")\n",
    "\n",
    "# Generate a classification report\n",
    "print(classification_report(y_test, y_pred, zero_division=0))\n",
    "\n",
    "# Generate a confusion matrix\n",
    "print(confusion_matrix(y_test, y_pred))"
   ]
  },
  {
   "cell_type": "markdown",
   "id": "3727fc04-9766-4f09-a436-1570ce9316ce",
   "metadata": {},
   "source": [
    "From the Output, there is  NO difference in accuracy even after tuning the paramaters in decision trees. \n",
    "Reason: the model might have reached its best possible performance with the given data, meaning that further tuning doesn't yield better results."
   ]
  },
  {
   "cell_type": "markdown",
   "id": "60b8b2d2-c746-4090-a37e-0124272a3d22",
   "metadata": {},
   "source": [
    "## RECOMMENDATIONS"
   ]
  },
  {
   "cell_type": "markdown",
   "id": "3cf37da4-2452-4d2a-9b84-f4a2ab442820",
   "metadata": {},
   "source": [
    "### Recommendations on the modern slavery data"
   ]
  },
  {
   "cell_type": "markdown",
   "id": "f5eddd73-fd20-4b22-b7a4-49eea623396b",
   "metadata": {},
   "source": [
    " 1.Address the Lack of Basic Needs:\n",
    "\n",
    " The \"Lack of Basic Needs\" feature is the most influential, highlighting the critical role that access to essential resources plays in modern slavery.\n",
    "Recommendation: Prioritize programs that address basic needs such as food, clean water, shelter, and healthcare. Efforts should focus on providing these necessities to at-risk populations to reduce their vulnerability to exploitation.\n",
    "\n",
    "    2.Enhance Criminal Justice Mechanisms:\n",
    "\n",
    "The \"Criminal Justice Mechanisms\" feature is also highly significant, indicating that effective legal systems are crucial in combating modern slavery.\n",
    "Recommendation: Invest in strengthening the criminal justice systems in regions where they are weak. This includes improving law enforcement practices, increasing the capacity for investigations, and ensuring that perpetrators are held accountable. Special attention should be given to areas where criminal justice mechanisms are currently ineffective.\n",
    "\n",
    "    3.Focus on Vulnerability Reduction:\n",
    "\n",
    "The \"Total Vulnerability Score (%)\" and \"Effects of Conflict\" are relevant but less significant compared to basic needs and criminal justice mechanisms.\n",
    "Recommendation: Implement comprehensive vulnerability reduction programs that address broader socio-economic issues, such as economic instability, educational deficits, and healthcare access. By improving these areas, the risk of modern slavery can be mitigated.\n",
    "\n",
    "    4.Localize Interventions Based on Context:\n",
    "\n",
    "\n",
    " Some country-specific features show minimal impact in the model.\n",
    "Recommendation: While the model indicates that certain country features may not be as influential, localized interventions tailored to regional needs and conditions are essential. Adapt anti-slavery strategies to the specific contexts of each country or region for more effective outcomes.\n",
    "\n",
    "   5.Improve Data Collection and Monitoring:\n",
    "\n",
    "The model's feature importance underscores the need for better data.\n",
    "Recommendation: Enhance data collection efforts to capture comprehensive and accurate information on factors influencing modern slavery. Continuous monitoring and updating of data will help refine interventions and improve future predictive models."
   ]
  },
  {
   "cell_type": "markdown",
   "id": "233ac635-7f0b-4a7d-92c2-1fb3df82997c",
   "metadata": {},
   "source": [
    "### Conclusions on the data "
   ]
  },
  {
   "cell_type": "markdown",
   "id": "aa5dd93d-8318-4b10-9767-7b73f79679cc",
   "metadata": {},
   "source": [
    "\n",
    "The feature importance analysis reveals that \"Lack of Basic Needs\" and \"Criminal Justice Mechanisms\" are the most critical factors influencing modern slavery. These insights underscore the necessity of addressing fundamental socio-economic needs and strengthening legal systems as primary strategies to combat modern slavery.\n",
    "\n",
    "\"Total Vulnerability Score (%)\" and \"Effects of Conflict\" also contribute to the model but to a lesser extent. This indicates that while these factors are relevant, they should be integrated into a broader approach that includes addressing basic needs and improving criminal justice mechanisms.\n",
    "\n",
    "The dataset highlights that countries with significant vulnerabilities and conflict, such as Afghanistan, require targeted interventions focusing on immediate needs and long-term stabilization. In contrast, countries like Albania and Algeria, while showing moderate to lower vulnerabilities, still need effective responses to manage and mitigate risks of modern slavery.\n",
    "\n",
    "In summary, combating modern slavery effectively requires a multi-faceted approach that includes enhancing basic needs, strengthening criminal justice systems, addressing socio-economic vulnerabilities, and implementing localized, context-specific interventions. This comprehensive strategy will enable stakeholders to protect vulnerable populations and make significant progress toward eradicating modern slavery."
   ]
  },
  {
   "cell_type": "markdown",
   "id": "fb267be1-513a-4ec0-8c7e-90c4569fa617",
   "metadata": {},
   "source": [
    "### Recommendations on the Models perfomance"
   ]
  },
  {
   "cell_type": "markdown",
   "id": "98ce1d83-bb05-4327-b625-73a381686be0",
   "metadata": {},
   "source": [
    "    1. Address Class Imbalance:\n",
    "\n",
    "Observation: The Decision Tree model showed high accuracy (86.1%) but struggled with minority classes, such as \"Forced Labor,\" where it achieved low precision (0.29) and recall (1.00). This suggests the model may be overfitting to the majority classes.\n",
    "\n",
    "Recommendation: Implement techniques like SMOTE (Synthetic Minority Over-sampling Technique) or class-weight adjustments to better balance the dataset. This can help models better identify and predict minority classes, improving overall model performance, especially for underrepresented categories.\n",
    "\n",
    "    2.Model Selection Based on Context:\n",
    "\n",
    "Observation: The Decision Tree model demonstrated strong overall accuracy and excelled in certain classes, like \"Other,\" where it achieved perfect precision and recall. However, it showed weaknesses in handling minority classes.\n",
    "\n",
    "Recommendation: For tasks requiring high accuracy and the ability to capture complex patterns, ensemble methods such as Random Forests or Gradient Boosting are recommended. These methods could improve performance by reducing the variance seen in single decision trees. For tasks where interpretability is critical, a simpler model like Logistic Regression might be preferable.\n",
    "\n",
    "     3.Hyperparameter Tuning:\n",
    "\n",
    "Observation: The performance differences between the tuned Decision Tree and Logistic Regression models were marginal, indicating that both models might already be close to their optimal performance for this dataset.\n",
    "\n",
    "Recommendation: While further tuning might yield only slight improvements, it is still worthwhile to explore hyperparameter adjustments, particularly for the Decision Tree model, to prevent overfitting and improve its handling of minority classes.\n",
    "\n",
    "   4.Consideration for Ensemble Methods:\n",
    "\n",
    "Observation: The Decision Tree model’s high accuracy suggests that tree-based methods are effective for this dataset, but its performance on minority classes was less satisfactory.\n",
    "\n",
    "Recommendation: Experiment with ensemble methods like Random Forests or Gradient Boosting. These approaches can combine multiple decision trees to reduce overfitting and enhance the model’s ability to generalize, particularly in handling imbalanced datasets.\n",
    "\n",
    "    5.Improvement in Data Representation:\n",
    "\n",
    "Observation: The performance of both models highlights the importance of data representation, especially in how features like \"Lack of Basic Needs\" and \"Criminal Justice Mechanisms\" are utilized.\n",
    "\n",
    "Recommendation: Consider feature engineering to create new variables or improve existing ones. This might involve creating interaction terms, normalizing variables, or using domain-specific knowledge to refine the input data. Improved feature representation can significantly enhance model accuracy and reliability."
   ]
  },
  {
   "cell_type": "markdown",
   "id": "b098b324-8053-4c60-8dab-52c0e97dffcf",
   "metadata": {},
   "source": [
    "### Conclusion on Model Performance"
   ]
  },
  {
   "cell_type": "markdown",
   "id": "bf16482c-1b98-49b8-989e-2474535284e0",
   "metadata": {},
   "source": [
    "Both Logistic Regression and Decision Tree models demonstrated strong overall accuracy, with Decision Trees slightly outperforming Logistic Regression in accuracy. However, the performance varied across different classes:\n",
    "\n",
    "Logistic Regression: This model provided a balanced performance across classes and handled the dataset’s imbalance better than the Decision Tree, making it suitable for tasks requiring straightforward decision boundaries and high interpretability.\n",
    "\n",
    "Decision Tree: This model achieved higher overall accuracy but struggled with minority classes, such as \"Forced Labor.\" This suggests that while Decision Trees are powerful for capturing complex relationships, they are sensitive to class imbalance and may require techniques like boosting or balancing to optimize their performance.\n",
    "\n",
    "Both models are effective, but the choice between them should be guided by the specific requirements of the task—whether it’s interpretability and generalization (favoring Logistic Regression) or maximizing accuracy through capturing complex patterns (favoring Decision Trees or ensemble methods). Balancing the dataset and tuning hyperparameters are essential steps to further enhance model performance."
   ]
  },
  {
   "cell_type": "code",
   "execution_count": null,
   "id": "47618c64-cd8d-49a6-a46a-4c22addbde81",
   "metadata": {},
   "outputs": [],
   "source": []
  }
 ],
 "metadata": {
  "kernelspec": {
   "display_name": "Python 3 (ipykernel)",
   "language": "python",
   "name": "python3"
  },
  "language_info": {
   "codemirror_mode": {
    "name": "ipython",
    "version": 3
   },
   "file_extension": ".py",
   "mimetype": "text/x-python",
   "name": "python",
   "nbconvert_exporter": "python",
   "pygments_lexer": "ipython3",
   "version": "3.11.7"
  }
 },
 "nbformat": 4,
 "nbformat_minor": 5
}
